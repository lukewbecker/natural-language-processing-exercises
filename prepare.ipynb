{
 "cells": [
  {
   "cell_type": "code",
   "execution_count": 1,
   "metadata": {},
   "outputs": [
    {
     "name": "stdout",
     "output_type": "stream",
     "text": [
      "All acquire functions loaded properly.\n"
     ]
    }
   ],
   "source": [
    "from requests import get\n",
    "from bs4 import BeautifulSoup\n",
    "import pandas as pd\n",
    "import numpy as np\n",
    "import matplotlib.pyplot as plt\n",
    "import os\n",
    "\n",
    "import unicodedata\n",
    "import re\n",
    "import json\n",
    "\n",
    "import nltk\n",
    "from nltk.tokenize.toktok import ToktokTokenizer\n",
    "from nltk.corpus import stopwords\n",
    "\n",
    "import acquire"
   ]
  },
  {
   "cell_type": "code",
   "execution_count": 2,
   "metadata": {},
   "outputs": [],
   "source": [
    "source_urls = ['https://inshorts.com/en/read/technology',\n",
    "             'https://inshorts.com/en/read/sports',\n",
    "             'https://inshorts.com/en/read/business',\n",
    "             'https://inshorts.com/en/read/entertainment']"
   ]
  },
  {
   "cell_type": "code",
   "execution_count": 3,
   "metadata": {},
   "outputs": [],
   "source": [
    "original_df = acquire.build_dataset(source_urls)"
   ]
  },
  {
   "cell_type": "code",
   "execution_count": 4,
   "metadata": {},
   "outputs": [
    {
     "data": {
      "text/html": [
       "<div>\n",
       "<style scoped>\n",
       "    .dataframe tbody tr th:only-of-type {\n",
       "        vertical-align: middle;\n",
       "    }\n",
       "\n",
       "    .dataframe tbody tr th {\n",
       "        vertical-align: top;\n",
       "    }\n",
       "\n",
       "    .dataframe thead th {\n",
       "        text-align: right;\n",
       "    }\n",
       "</style>\n",
       "<table border=\"1\" class=\"dataframe\">\n",
       "  <thead>\n",
       "    <tr style=\"text-align: right;\">\n",
       "      <th></th>\n",
       "      <th>title</th>\n",
       "      <th>content</th>\n",
       "      <th>category</th>\n",
       "    </tr>\n",
       "  </thead>\n",
       "  <tbody>\n",
       "    <tr>\n",
       "      <th>0</th>\n",
       "      <td>Musk gets $15bn richer in 2 hours, becomes wor...</td>\n",
       "      <td>Billionaire Elon Musk added $15 billion to his...</td>\n",
       "      <td>technology</td>\n",
       "    </tr>\n",
       "    <tr>\n",
       "      <th>1</th>\n",
       "      <td>Apple products worth $6.6 mn stolen in UK truc...</td>\n",
       "      <td>Apple products worth $6.6 million were stolen ...</td>\n",
       "      <td>technology</td>\n",
       "    </tr>\n",
       "    <tr>\n",
       "      <th>2</th>\n",
       "      <td>Twitter hires influential hacker Peiter 'Mudge...</td>\n",
       "      <td>Twitter on Monday named Peiter Zatko, widely k...</td>\n",
       "      <td>technology</td>\n",
       "    </tr>\n",
       "    <tr>\n",
       "      <th>3</th>\n",
       "      <td>Russian economy set to lose $44B to cybercrime...</td>\n",
       "      <td>The Russian economy is set to lose $44 billion...</td>\n",
       "      <td>technology</td>\n",
       "    </tr>\n",
       "    <tr>\n",
       "      <th>4</th>\n",
       "      <td>Learning how to earn users' trust: Twitter CEO...</td>\n",
       "      <td>Twitter CEO Jack Dorsey, in his remarks to the...</td>\n",
       "      <td>technology</td>\n",
       "    </tr>\n",
       "    <tr>\n",
       "      <th>...</th>\n",
       "      <td>...</td>\n",
       "      <td>...</td>\n",
       "      <td>...</td>\n",
       "    </tr>\n",
       "    <tr>\n",
       "      <th>94</th>\n",
       "      <td>Chadwick won't be digitally recreated for Blac...</td>\n",
       "      <td>When asked if Marvel will digitally recreate l...</td>\n",
       "      <td>entertainment</td>\n",
       "    </tr>\n",
       "    <tr>\n",
       "      <th>95</th>\n",
       "      <td>Wonder if people will take the risk: Dilijt on...</td>\n",
       "      <td>Commenting on the theatrical release of his fi...</td>\n",
       "      <td>entertainment</td>\n",
       "    </tr>\n",
       "    <tr>\n",
       "      <th>96</th>\n",
       "      <td>'Pyaar Ka Punchnama' changed everything for me...</td>\n",
       "      <td>Speaking about his 2011 debut film 'Pyaar Ka P...</td>\n",
       "      <td>entertainment</td>\n",
       "    </tr>\n",
       "    <tr>\n",
       "      <th>97</th>\n",
       "      <td>Zazie Beetz joins Brad Pitt in action film 'Bu...</td>\n",
       "      <td>Actress Zazie Beetz, who played Domino in 'Dea...</td>\n",
       "      <td>entertainment</td>\n",
       "    </tr>\n",
       "    <tr>\n",
       "      <th>98</th>\n",
       "      <td>Heroes can be larger than life, but emotions h...</td>\n",
       "      <td>Actor Suriya Sivakumar said he believes that I...</td>\n",
       "      <td>entertainment</td>\n",
       "    </tr>\n",
       "  </tbody>\n",
       "</table>\n",
       "<p>99 rows × 3 columns</p>\n",
       "</div>"
      ],
      "text/plain": [
       "                                                title  \\\n",
       "0   Musk gets $15bn richer in 2 hours, becomes wor...   \n",
       "1   Apple products worth $6.6 mn stolen in UK truc...   \n",
       "2   Twitter hires influential hacker Peiter 'Mudge...   \n",
       "3   Russian economy set to lose $44B to cybercrime...   \n",
       "4   Learning how to earn users' trust: Twitter CEO...   \n",
       "..                                                ...   \n",
       "94  Chadwick won't be digitally recreated for Blac...   \n",
       "95  Wonder if people will take the risk: Dilijt on...   \n",
       "96  'Pyaar Ka Punchnama' changed everything for me...   \n",
       "97  Zazie Beetz joins Brad Pitt in action film 'Bu...   \n",
       "98  Heroes can be larger than life, but emotions h...   \n",
       "\n",
       "                                              content       category  \n",
       "0   Billionaire Elon Musk added $15 billion to his...     technology  \n",
       "1   Apple products worth $6.6 million were stolen ...     technology  \n",
       "2   Twitter on Monday named Peiter Zatko, widely k...     technology  \n",
       "3   The Russian economy is set to lose $44 billion...     technology  \n",
       "4   Twitter CEO Jack Dorsey, in his remarks to the...     technology  \n",
       "..                                                ...            ...  \n",
       "94  When asked if Marvel will digitally recreate l...  entertainment  \n",
       "95  Commenting on the theatrical release of his fi...  entertainment  \n",
       "96  Speaking about his 2011 debut film 'Pyaar Ka P...  entertainment  \n",
       "97  Actress Zazie Beetz, who played Domino in 'Dea...  entertainment  \n",
       "98  Actor Suriya Sivakumar said he believes that I...  entertainment  \n",
       "\n",
       "[99 rows x 3 columns]"
      ]
     },
     "execution_count": 4,
     "metadata": {},
     "output_type": "execute_result"
    }
   ],
   "source": [
    "original_df"
   ]
  },
  {
   "cell_type": "code",
   "execution_count": 5,
   "metadata": {},
   "outputs": [],
   "source": [
    "url = 'https://codeup.com/codeups-data-science-career-accelerator-is-here/'\n",
    "original = acquire.get_article_text(url)"
   ]
  },
  {
   "cell_type": "code",
   "execution_count": 6,
   "metadata": {},
   "outputs": [
    {
     "data": {
      "text/plain": [
       "'Competitor Bootcamps Are Closing. Is the Model in Danger?\\n\\xa0\\n\\nIs the programming bootcamp model in danger?\\nIn recent news, DevBootcamp and The Iron Yard announced that they are closing their doors. This is big news. DevBootcamp was the first programming bootcamp model and The Iron Yard is a national player with 15 campuses across the U.S. In both cases, the companies cited an unsustainable business model. Does that mean the boot-camp model is dead?\\n\\ntl;dr “Nope!”\\nBootcamps exist because traditional education models have failed to provide students job-ready skills for the 21st century. Students demand better employment options from their education. Employers demand skilled and job ready candidates. Big Education’s failure to meet those needs through traditional methods created the fertile ground for the new business model of the programming bootcamp.\\nEducation giant Kaplan and Apollo Education Group (owner of University of Phoenix) bought their way into this new educational model when they purchased The Iron Yard and DevBootcamp. They purchased their competition with the intent to scale up the model. Unfortunately, Big Education is too habituated to coming up short for students. They bought the upstarts that challenged them, tried making changes to run those bootcamps in the “Big Education” way, and, sadly, they’ve closed the doors when they realized that scaling education is more challenging when student outcomes truly matter.\\nThe bootcamp model is still new and there will be plenty consolidation, competition, and changes in the future. This model is based on actually being adaptive, innovative, and sustainable. And there’s always room for innovation.\\n\\n\\nWhat we’ve learned at Codeup…\\n\\n\\nEducation is challenging to scale.\\nPrioritizing quality over growth pays off.\\n\\nWhat we’re doing at Codeup…\\n\\nHigher standards in our application process are leading to better student outcomes.\\nOur reputation and commitment to quality is opening new doors to previously uninterested/unreachable employers.\\nIn the beginning, the majority of Codeup graduates went to work with startups and small businesses. We’re now seeing a larger amount of our graduates place at medium to large sized businesses.\\nDemand is growing and employers are learning that the results are in the graduates.\\nCodeup’s model is sustainable, inclusive, and works.\\n\\nCall or contact us today to see how Codeup’s commitment to quality and approach to being a career accelerator can make a profound difference in your life.\\n\\n'"
      ]
     },
     "execution_count": 6,
     "metadata": {},
     "output_type": "execute_result"
    }
   ],
   "source": [
    "original"
   ]
  },
  {
   "cell_type": "code",
   "execution_count": 7,
   "metadata": {},
   "outputs": [
    {
     "name": "stdout",
     "output_type": "stream",
     "text": [
      "competitor bootcamps are closing. is the model in danger?\n",
      " \n",
      "\n",
      "is the programming bootcamp model in danger?\n",
      "in recent news, devbootcamp and the iron yard announced that they are closing their doors. this is big news. devbootcamp was the first programming bootcamp model and the iron yard is a national player with 15 campuses across the u.s. in both cases, the companies cited an unsustainable business model. does that mean the boot-camp model is dead?\n",
      "\n",
      "tl;dr “nope!”\n",
      "bootcamps exist because traditional education models have failed to provide students job-ready skills for the 21st century. students demand better employment options from their education. employers demand skilled and job ready candidates. big education’s failure to meet those needs through traditional methods created the fertile ground for the new business model of the programming bootcamp.\n",
      "education giant kaplan and apollo education group (owner of university of phoenix) bought their way into this new educational model when they purchased the iron yard and devbootcamp. they purchased their competition with the intent to scale up the model. unfortunately, big education is too habituated to coming up short for students. they bought the upstarts that challenged them, tried making changes to run those bootcamps in the “big education” way, and, sadly, they’ve closed the doors when they realized that scaling education is more challenging when student outcomes truly matter.\n",
      "the bootcamp model is still new and there will be plenty consolidation, competition, and changes in the future. this model is based on actually being adaptive, innovative, and sustainable. and there’s always room for innovation.\n",
      "\n",
      "\n",
      "what we’ve learned at codeup…\n",
      "\n",
      "\n",
      "education is challenging to scale.\n",
      "prioritizing quality over growth pays off.\n",
      "\n",
      "what we’re doing at codeup…\n",
      "\n",
      "higher standards in our application process are leading to better student outcomes.\n",
      "our reputation and commitment to quality is opening new doors to previously uninterested/unreachable employers.\n",
      "in the beginning, the majority of codeup graduates went to work with startups and small businesses. we’re now seeing a larger amount of our graduates place at medium to large sized businesses.\n",
      "demand is growing and employers are learning that the results are in the graduates.\n",
      "codeup’s model is sustainable, inclusive, and works.\n",
      "\n",
      "call or contact us today to see how codeup’s commitment to quality and approach to being a career accelerator can make a profound difference in your life.\n",
      "\n",
      "\n"
     ]
    }
   ],
   "source": [
    "article = original.lower()\n",
    "print(article)"
   ]
  },
  {
   "cell_type": "code",
   "execution_count": 8,
   "metadata": {},
   "outputs": [
    {
     "name": "stdout",
     "output_type": "stream",
     "text": [
      "competitor bootcamps are closing. is the model in danger?\n",
      " \n",
      "\n",
      "is the programming bootcamp model in danger?\n",
      "in recent news, devbootcamp and the iron yard announced that they are closing their doors. this is big news. devbootcamp was the first programming bootcamp model and the iron yard is a national player with 15 campuses across the u.s. in both cases, the companies cited an unsustainable business model. does that mean the boot-camp model is dead?\n",
      "\n",
      "tl;dr nope!\n",
      "bootcamps exist because traditional education models have failed to provide students job-ready skills for the 21st century. students demand better employment options from their education. employers demand skilled and job ready candidates. big educations failure to meet those needs through traditional methods created the fertile ground for the new business model of the programming bootcamp.\n",
      "education giant kaplan and apollo education group (owner of university of phoenix) bought their way into this new educational model when they purchased the iron yard and devbootcamp. they purchased their competition with the intent to scale up the model. unfortunately, big education is too habituated to coming up short for students. they bought the upstarts that challenged them, tried making changes to run those bootcamps in the big education way, and, sadly, theyve closed the doors when they realized that scaling education is more challenging when student outcomes truly matter.\n",
      "the bootcamp model is still new and there will be plenty consolidation, competition, and changes in the future. this model is based on actually being adaptive, innovative, and sustainable. and theres always room for innovation.\n",
      "\n",
      "\n",
      "what weve learned at codeup...\n",
      "\n",
      "\n",
      "education is challenging to scale.\n",
      "prioritizing quality over growth pays off.\n",
      "\n",
      "what were doing at codeup...\n",
      "\n",
      "higher standards in our application process are leading to better student outcomes.\n",
      "our reputation and commitment to quality is opening new doors to previously uninterested/unreachable employers.\n",
      "in the beginning, the majority of codeup graduates went to work with startups and small businesses. were now seeing a larger amount of our graduates place at medium to large sized businesses.\n",
      "demand is growing and employers are learning that the results are in the graduates.\n",
      "codeups model is sustainable, inclusive, and works.\n",
      "\n",
      "call or contact us today to see how codeups commitment to quality and approach to being a career accelerator can make a profound difference in your life.\n",
      "\n",
      "\n"
     ]
    }
   ],
   "source": [
    "article = unicodedata.normalize('NFKD', article)\\\n",
    "    .encode('ascii', 'ignore')\\\n",
    "    .decode('utf-8', 'ignore')\n",
    "\n",
    "print(article)"
   ]
  },
  {
   "cell_type": "code",
   "execution_count": 9,
   "metadata": {},
   "outputs": [
    {
     "name": "stdout",
     "output_type": "stream",
     "text": [
      "competitor bootcamps are closing is the model in danger\n",
      " \n",
      "\n",
      "is the programming bootcamp model in danger\n",
      "in recent news devbootcamp and the iron yard announced that they are closing their doors this is big news devbootcamp was the first programming bootcamp model and the iron yard is a national player with 15 campuses across the us in both cases the companies cited an unsustainable business model does that mean the bootcamp model is dead\n",
      "\n",
      "tldr nope\n",
      "bootcamps exist because traditional education models have failed to provide students jobready skills for the 21st century students demand better employment options from their education employers demand skilled and job ready candidates big educations failure to meet those needs through traditional methods created the fertile ground for the new business model of the programming bootcamp\n",
      "education giant kaplan and apollo education group owner of university of phoenix bought their way into this new educational model when they purchased the iron yard and devbootcamp they purchased their competition with the intent to scale up the model unfortunately big education is too habituated to coming up short for students they bought the upstarts that challenged them tried making changes to run those bootcamps in the big education way and sadly theyve closed the doors when they realized that scaling education is more challenging when student outcomes truly matter\n",
      "the bootcamp model is still new and there will be plenty consolidation competition and changes in the future this model is based on actually being adaptive innovative and sustainable and theres always room for innovation\n",
      "\n",
      "\n",
      "what weve learned at codeup\n",
      "\n",
      "\n",
      "education is challenging to scale\n",
      "prioritizing quality over growth pays off\n",
      "\n",
      "what were doing at codeup\n",
      "\n",
      "higher standards in our application process are leading to better student outcomes\n",
      "our reputation and commitment to quality is opening new doors to previously uninterestedunreachable employers\n",
      "in the beginning the majority of codeup graduates went to work with startups and small businesses were now seeing a larger amount of our graduates place at medium to large sized businesses\n",
      "demand is growing and employers are learning that the results are in the graduates\n",
      "codeups model is sustainable inclusive and works\n",
      "\n",
      "call or contact us today to see how codeups commitment to quality and approach to being a career accelerator can make a profound difference in your life\n",
      "\n",
      "\n"
     ]
    }
   ],
   "source": [
    "# remove anything that is not a through z, a number, a single quote, or whitespace\n",
    "article = re.sub(r\"[^a-z0-9'\\s]\", '', article)\n",
    "print(article)"
   ]
  },
  {
   "cell_type": "code",
   "execution_count": 10,
   "metadata": {},
   "outputs": [
    {
     "name": "stdout",
     "output_type": "stream",
     "text": [
      "Competitor Bootcamps Are Closing. Is the Model in Danger ? \n",
      " \n",
      "\n",
      "Is the programming bootcamp model in danger ? \n",
      "In recent news , DevBootcamp and The Iron Yard announced that they are closing their doors. This is big news. DevBootcamp was the first programming bootcamp model and The Iron Yard is a national player with 15 campuses across the U.S. In both cases , the companies cited an unsustainable business model. Does that mean the boot-camp model is dead ? \n",
      "\n",
      "tl ; dr “Nope ! ” \n",
      "Bootcamps exist because traditional education models have failed to provide students job-ready skills for the 21st century. Students demand better employment options from their education. Employers demand skilled and job ready candidates. Big Education ’ s failure to meet those needs through traditional methods created the fertile ground for the new business model of the programming bootcamp.\n",
      "Education giant Kaplan and Apollo Education Group ( owner of University of Phoenix ) bought their way into this new educational model when they purchased The Iron Yard and DevBootcamp. They purchased their competition with the intent to scale up the model. Unfortunately , Big Education is too habituated to coming up short for students. They bought the upstarts that challenged them , tried making changes to run those bootcamps in the “Big Education ” way , and , sadly , they ’ ve closed the doors when they realized that scaling education is more challenging when student outcomes truly matter.\n",
      "The bootcamp model is still new and there will be plenty consolidation , competition , and changes in the future. This model is based on actually being adaptive , innovative , and sustainable. And there ’ s always room for innovation.\n",
      "\n",
      "\n",
      "What we ’ ve learned at Codeup … \n",
      "\n",
      "\n",
      "Education is challenging to scale.\n",
      "Prioritizing quality over growth pays off.\n",
      "\n",
      "What we ’ re doing at Codeup … \n",
      "\n",
      "Higher standards in our application process are leading to better student outcomes.\n",
      "Our reputation and commitment to quality is opening new doors to previously uninterested/unreachable employers.\n",
      "In the beginning , the majority of Codeup graduates went to work with startups and small businesses. We ’ re now seeing a larger amount of our graduates place at medium to large sized businesses.\n",
      "Demand is growing and employers are learning that the results are in the graduates.\n",
      "Codeup ’ s model is sustainable , inclusive , and works.\n",
      "\n",
      "Call or contact us today to see how Codeup ’ s commitment to quality and approach to being a career accelerator can make a profound difference in your life.\n"
     ]
    }
   ],
   "source": [
    "tokenizer = nltk.tokenize.ToktokTokenizer()\n",
    "\n",
    "print(tokenizer.tokenize(original, return_str=True))"
   ]
  },
  {
   "cell_type": "code",
   "execution_count": 11,
   "metadata": {},
   "outputs": [
    {
     "data": {
      "text/plain": [
       "('call', 'call', 'call')"
      ]
     },
     "execution_count": 11,
     "metadata": {},
     "output_type": "execute_result"
    }
   ],
   "source": [
    "# Create the nltk stemmer object, then use it\n",
    "ps = nltk.porter.PorterStemmer()\n",
    "\n",
    "ps.stem('call'), ps.stem('called'), ps.stem('calling')"
   ]
  },
  {
   "cell_type": "code",
   "execution_count": 12,
   "metadata": {},
   "outputs": [
    {
     "name": "stdout",
     "output_type": "stream",
     "text": [
      "competitor bootcamp are close is the model in danger is the program bootcamp model in danger in recent news devbootcamp and the iron yard announc that they are close their door thi is big news devbootcamp wa the first program bootcamp model and the iron yard is a nation player with 15 campus across the us in both case the compani cite an unsustain busi model doe that mean the bootcamp model is dead tldr nope bootcamp exist becaus tradit educ model have fail to provid student jobreadi skill for the 21st centuri student demand better employ option from their educ employ demand skill and job readi candid big educ failur to meet those need through tradit method creat the fertil ground for the new busi model of the program bootcamp educ giant kaplan and apollo educ group owner of univers of phoenix bought their way into thi new educ model when they purchas the iron yard and devbootcamp they purchas their competit with the intent to scale up the model unfortun big educ is too habitu to come up short for student they bought the upstart that challeng them tri make chang to run those bootcamp in the big educ way and sadli theyv close the door when they realiz that scale educ is more challeng when student outcom truli matter the bootcamp model is still new and there will be plenti consolid competit and chang in the futur thi model is base on actual be adapt innov and sustain and there alway room for innov what weve learn at codeup educ is challeng to scale priorit qualiti over growth pay off what were do at codeup higher standard in our applic process are lead to better student outcom our reput and commit to qualiti is open new door to previous uninterestedunreach employ in the begin the major of codeup graduat went to work with startup and small busi were now see a larger amount of our graduat place at medium to larg size busi demand is grow and employ are learn that the result are in the graduat codeup model is sustain inclus and work call or contact us today to see how codeup commit to qualiti and approach to be a career acceler can make a profound differ in your life\n"
     ]
    }
   ],
   "source": [
    "stems = [ps.stem(word) for word in article.split()]\n",
    "article_stemmed = ' '.join(stems)\n",
    "print(article_stemmed)"
   ]
  },
  {
   "cell_type": "code",
   "execution_count": 13,
   "metadata": {},
   "outputs": [
    {
     "name": "stdout",
     "output_type": "stream",
     "text": [
      "stem: studi -- lemma: study\n",
      "stem: studi -- lemma: study\n"
     ]
    }
   ],
   "source": [
    "wnl = nltk.stem.WordNetLemmatizer()\n",
    "\n",
    "for word in 'study studies'.split():\n",
    "    print('stem:', ps.stem(word), '-- lemma:', wnl.lemmatize(word))"
   ]
  },
  {
   "cell_type": "markdown",
   "metadata": {},
   "source": [
    "# Exercises"
   ]
  },
  {
   "cell_type": "markdown",
   "metadata": {},
   "source": [
    "### 1. Define a function named basic_clean. It should take in a string and apply some basic text cleaning to it:\n",
    "\n",
    "- Lowercase everything\n",
    "- Normalize unicode characters\n",
    "- Replace anything that is not a letter, number, whitespace or a single quote."
   ]
  },
  {
   "cell_type": "code",
   "execution_count": 14,
   "metadata": {},
   "outputs": [],
   "source": [
    "url = 'https://codeup.com/codeups-data-science-career-accelerator-is-here/'\n",
    "original = acquire.get_article_text(url)"
   ]
  },
  {
   "cell_type": "code",
   "execution_count": 15,
   "metadata": {},
   "outputs": [
    {
     "data": {
      "text/plain": [
       "'Competitor Bootcamps Are Closing. Is the Model in Danger?\\n\\xa0\\n\\nIs the programming bootcamp model in danger?\\nIn recent news, DevBootcamp and The Iron Yard announced that they are closing their doors. This is big news. DevBootcamp was the first programming bootcamp model and The Iron Yard is a national player with 15 campuses across the U.S. In both cases, the companies cited an unsustainable business model. Does that mean the boot-camp model is dead?\\n\\ntl;dr “Nope!”\\nBootcamps exist because traditional education models have failed to provide students job-ready skills for the 21st century. Students demand better employment options from their education. Employers demand skilled and job ready candidates. Big Education’s failure to meet those needs through traditional methods created the fertile ground for the new business model of the programming bootcamp.\\nEducation giant Kaplan and Apollo Education Group (owner of University of Phoenix) bought their way into this new educational model when they purchased The Iron Yard and DevBootcamp. They purchased their competition with the intent to scale up the model. Unfortunately, Big Education is too habituated to coming up short for students. They bought the upstarts that challenged them, tried making changes to run those bootcamps in the “Big Education” way, and, sadly, they’ve closed the doors when they realized that scaling education is more challenging when student outcomes truly matter.\\nThe bootcamp model is still new and there will be plenty consolidation, competition, and changes in the future. This model is based on actually being adaptive, innovative, and sustainable. And there’s always room for innovation.\\n\\n\\nWhat we’ve learned at Codeup…\\n\\n\\nEducation is challenging to scale.\\nPrioritizing quality over growth pays off.\\n\\nWhat we’re doing at Codeup…\\n\\nHigher standards in our application process are leading to better student outcomes.\\nOur reputation and commitment to quality is opening new doors to previously uninterested/unreachable employers.\\nIn the beginning, the majority of Codeup graduates went to work with startups and small businesses. We’re now seeing a larger amount of our graduates place at medium to large sized businesses.\\nDemand is growing and employers are learning that the results are in the graduates.\\nCodeup’s model is sustainable, inclusive, and works.\\n\\nCall or contact us today to see how Codeup’s commitment to quality and approach to being a career accelerator can make a profound difference in your life.\\n\\n'"
      ]
     },
     "execution_count": 15,
     "metadata": {},
     "output_type": "execute_result"
    }
   ],
   "source": [
    "original"
   ]
  },
  {
   "cell_type": "code",
   "execution_count": 16,
   "metadata": {},
   "outputs": [],
   "source": [
    "def basic_clean(text):\n",
    "    \n",
    "    text = text.lower()\n",
    "    recode = unicodedata.normalize('NFKD', text).encode('ascii', 'ignore').decode('utf-8', 'ignore')\n",
    "    clean_text = re.sub(r\"[^a-z0-9'\\s]\", '', recode)\n",
    "    clean_text_final = re.sub(r\"\\n\", \"\", clean_text)\n",
    "    \n",
    "    return clean_text_final\n",
    "    "
   ]
  },
  {
   "cell_type": "code",
   "execution_count": 17,
   "metadata": {},
   "outputs": [
    {
     "data": {
      "text/plain": [
       "'competitor bootcamps are closing is the model in danger is the programming bootcamp model in dangerin recent news devbootcamp and the iron yard announced that they are closing their doors this is big news devbootcamp was the first programming bootcamp model and the iron yard is a national player with 15 campuses across the us in both cases the companies cited an unsustainable business model does that mean the bootcamp model is deadtldr nopebootcamps exist because traditional education models have failed to provide students jobready skills for the 21st century students demand better employment options from their education employers demand skilled and job ready candidates big educations failure to meet those needs through traditional methods created the fertile ground for the new business model of the programming bootcampeducation giant kaplan and apollo education group owner of university of phoenix bought their way into this new educational model when they purchased the iron yard and devbootcamp they purchased their competition with the intent to scale up the model unfortunately big education is too habituated to coming up short for students they bought the upstarts that challenged them tried making changes to run those bootcamps in the big education way and sadly theyve closed the doors when they realized that scaling education is more challenging when student outcomes truly matterthe bootcamp model is still new and there will be plenty consolidation competition and changes in the future this model is based on actually being adaptive innovative and sustainable and theres always room for innovationwhat weve learned at codeupeducation is challenging to scaleprioritizing quality over growth pays offwhat were doing at codeuphigher standards in our application process are leading to better student outcomesour reputation and commitment to quality is opening new doors to previously uninterestedunreachable employersin the beginning the majority of codeup graduates went to work with startups and small businesses were now seeing a larger amount of our graduates place at medium to large sized businessesdemand is growing and employers are learning that the results are in the graduatescodeups model is sustainable inclusive and workscall or contact us today to see how codeups commitment to quality and approach to being a career accelerator can make a profound difference in your life'"
      ]
     },
     "execution_count": 17,
     "metadata": {},
     "output_type": "execute_result"
    }
   ],
   "source": [
    "basic_string = basic_clean(original)\n",
    "basic_string"
   ]
  },
  {
   "cell_type": "markdown",
   "metadata": {},
   "source": [
    "### 2. Define a function named `tokenize`. It should take in a string and tokenize all the words in the string."
   ]
  },
  {
   "cell_type": "code",
   "execution_count": 18,
   "metadata": {},
   "outputs": [],
   "source": [
    "def tokenize(text):\n",
    "    \n",
    "    tokenizer = nltk.tokenize.ToktokTokenizer()\n",
    "\n",
    "    text = tokenizer.tokenize(text, return_str=True)\n",
    "    \n",
    "    return text"
   ]
  },
  {
   "cell_type": "code",
   "execution_count": 19,
   "metadata": {},
   "outputs": [
    {
     "data": {
      "text/plain": [
       "'competitor bootcamps are closing is the model in danger is the programming bootcamp model in dangerin recent news devbootcamp and the iron yard announced that they are closing their doors this is big news devbootcamp was the first programming bootcamp model and the iron yard is a national player with 15 campuses across the us in both cases the companies cited an unsustainable business model does that mean the bootcamp model is deadtldr nopebootcamps exist because traditional education models have failed to provide students jobready skills for the 21st century students demand better employment options from their education employers demand skilled and job ready candidates big educations failure to meet those needs through traditional methods created the fertile ground for the new business model of the programming bootcampeducation giant kaplan and apollo education group owner of university of phoenix bought their way into this new educational model when they purchased the iron yard and devbootcamp they purchased their competition with the intent to scale up the model unfortunately big education is too habituated to coming up short for students they bought the upstarts that challenged them tried making changes to run those bootcamps in the big education way and sadly theyve closed the doors when they realized that scaling education is more challenging when student outcomes truly matterthe bootcamp model is still new and there will be plenty consolidation competition and changes in the future this model is based on actually being adaptive innovative and sustainable and theres always room for innovationwhat weve learned at codeupeducation is challenging to scaleprioritizing quality over growth pays offwhat were doing at codeuphigher standards in our application process are leading to better student outcomesour reputation and commitment to quality is opening new doors to previously uninterestedunreachable employersin the beginning the majority of codeup graduates went to work with startups and small businesses were now seeing a larger amount of our graduates place at medium to large sized businessesdemand is growing and employers are learning that the results are in the graduatescodeups model is sustainable inclusive and workscall or contact us today to see how codeups commitment to quality and approach to being a career accelerator can make a profound difference in your life'"
      ]
     },
     "execution_count": 19,
     "metadata": {},
     "output_type": "execute_result"
    }
   ],
   "source": [
    "tokenize(basic_string)"
   ]
  },
  {
   "cell_type": "markdown",
   "metadata": {},
   "source": [
    "### 3. Define a function named stem. It should accept some text and return the text after applying stemming to all the words."
   ]
  },
  {
   "cell_type": "code",
   "execution_count": 20,
   "metadata": {},
   "outputs": [],
   "source": [
    "def stem(text):\n",
    "    \n",
    "    ps = nltk.porter.PorterStemmer()\n",
    "    stems = [ps.stem(word) for word in text.split()]\n",
    "    text_stemmed = ' '.join(stems)\n",
    "    \n",
    "    return text_stemmed"
   ]
  },
  {
   "cell_type": "code",
   "execution_count": 21,
   "metadata": {},
   "outputs": [
    {
     "data": {
      "text/plain": [
       "'competitor bootcamp are close is the model in danger is the program bootcamp model in dangerin recent news devbootcamp and the iron yard announc that they are close their door thi is big news devbootcamp wa the first program bootcamp model and the iron yard is a nation player with 15 campus across the us in both case the compani cite an unsustain busi model doe that mean the bootcamp model is deadtldr nopebootcamp exist becaus tradit educ model have fail to provid student jobreadi skill for the 21st centuri student demand better employ option from their educ employ demand skill and job readi candid big educ failur to meet those need through tradit method creat the fertil ground for the new busi model of the program bootcampeduc giant kaplan and apollo educ group owner of univers of phoenix bought their way into thi new educ model when they purchas the iron yard and devbootcamp they purchas their competit with the intent to scale up the model unfortun big educ is too habitu to come up short for student they bought the upstart that challeng them tri make chang to run those bootcamp in the big educ way and sadli theyv close the door when they realiz that scale educ is more challeng when student outcom truli matterth bootcamp model is still new and there will be plenti consolid competit and chang in the futur thi model is base on actual be adapt innov and sustain and there alway room for innovationwhat weve learn at codeupeduc is challeng to scalepriorit qualiti over growth pay offwhat were do at codeuphigh standard in our applic process are lead to better student outcomesour reput and commit to qualiti is open new door to previous uninterestedunreach employersin the begin the major of codeup graduat went to work with startup and small busi were now see a larger amount of our graduat place at medium to larg size businessesdemand is grow and employ are learn that the result are in the graduatescodeup model is sustain inclus and workscal or contact us today to see how codeup commit to qualiti and approach to be a career acceler can make a profound differ in your life'"
      ]
     },
     "execution_count": 21,
     "metadata": {},
     "output_type": "execute_result"
    }
   ],
   "source": [
    "stem(basic_string)"
   ]
  },
  {
   "cell_type": "markdown",
   "metadata": {},
   "source": [
    "### 4. Define a function named lemmatize. It should accept some text and return the text after applying lemmatization to each word."
   ]
  },
  {
   "cell_type": "code",
   "execution_count": 22,
   "metadata": {},
   "outputs": [],
   "source": [
    "def lemmatize(string):\n",
    "    # Defining the lemmatizer:\n",
    "    wnl = nltk.stem.WordNetLemmatizer()\n",
    "    \n",
    "    lemmas_text = [wnl.lemmatize(word) for word in string.split()]\n",
    "    \n",
    "    string_final = ' '.join(lemmas_text)\n",
    "    return string_final"
   ]
  },
  {
   "cell_type": "code",
   "execution_count": 23,
   "metadata": {},
   "outputs": [
    {
     "name": "stderr",
     "output_type": "stream",
     "text": [
      "[nltk_data] Downloading package wordnet to /Users/luke/nltk_data...\n",
      "[nltk_data]   Package wordnet is already up-to-date!\n"
     ]
    },
    {
     "data": {
      "text/plain": [
       "True"
      ]
     },
     "execution_count": 23,
     "metadata": {},
     "output_type": "execute_result"
    }
   ],
   "source": [
    "nltk.download('wordnet')"
   ]
  },
  {
   "cell_type": "code",
   "execution_count": 24,
   "metadata": {},
   "outputs": [],
   "source": [
    "lem_words = lemmatize(basic_string)"
   ]
  },
  {
   "cell_type": "markdown",
   "metadata": {},
   "source": [
    "### 5. Define a function named remove_stopwords. It should accept some text and return the text after removing all the stopwords."
   ]
  },
  {
   "cell_type": "code",
   "execution_count": 25,
   "metadata": {},
   "outputs": [
    {
     "data": {
      "text/plain": [
       "['i', 'me', 'my', 'myself', 'we', 'our', 'ours', 'ourselves', 'you', \"you're\"]"
      ]
     },
     "execution_count": 25,
     "metadata": {},
     "output_type": "execute_result"
    }
   ],
   "source": [
    "stopword_list = stopwords.words('english')\n",
    "stopword_list[:10]\n"
   ]
  },
  {
   "cell_type": "code",
   "execution_count": 26,
   "metadata": {},
   "outputs": [
    {
     "data": {
      "text/plain": [
       "['competitor',\n",
       " 'bootcamps',\n",
       " 'are',\n",
       " 'closing',\n",
       " 'is',\n",
       " 'the',\n",
       " 'model',\n",
       " 'in',\n",
       " 'danger',\n",
       " 'is']"
      ]
     },
     "execution_count": 26,
     "metadata": {},
     "output_type": "execute_result"
    }
   ],
   "source": [
    "words = basic_string.split()\n",
    "words[:10]"
   ]
  },
  {
   "cell_type": "code",
   "execution_count": 27,
   "metadata": {},
   "outputs": [
    {
     "data": {
      "text/plain": [
       "['competitor',\n",
       " 'bootcamps',\n",
       " 'closing',\n",
       " 'model',\n",
       " 'danger',\n",
       " 'programming',\n",
       " 'bootcamp',\n",
       " 'model',\n",
       " 'dangerin',\n",
       " 'recent']"
      ]
     },
     "execution_count": 27,
     "metadata": {},
     "output_type": "execute_result"
    }
   ],
   "source": [
    "filtered_words = [word for word in words if word not in stopword_list]\n",
    "filtered_words[:10]"
   ]
  },
  {
   "cell_type": "code",
   "execution_count": 28,
   "metadata": {},
   "outputs": [],
   "source": [
    "# adding extra words:\n"
   ]
  },
  {
   "cell_type": "code",
   "execution_count": 29,
   "metadata": {},
   "outputs": [],
   "source": [
    "def remove_stopwords(string, extra_words = [], exclude_words = []):\n",
    "    \n",
    "    # Stopwords list:\n",
    "    stopword_list = stopwords.words('english')\n",
    "    \n",
    "    # Remove any excluded words:\n",
    "    stopword_list = set(stopword_list) - set(exclude_words)\n",
    "    \n",
    "    stopword_list = stopword_list.union(set(extra_words))\n",
    "    \n",
    "    words = string.split()\n",
    "    \n",
    "    filtered_words = [word for word in words if word not in stopword_list]\n",
    "    \n",
    "    no_stopwords = ' '.join(filtered_words)\n",
    "    \n",
    "    return no_stopwords"
   ]
  },
  {
   "cell_type": "code",
   "execution_count": null,
   "metadata": {},
   "outputs": [],
   "source": []
  },
  {
   "cell_type": "code",
   "execution_count": 30,
   "metadata": {},
   "outputs": [],
   "source": [
    "# Full prep function (thanks to Faith for help):\n",
    "\n",
    "def prep_article_data(df, column, extra_words=[], exclude_words=[]):\n",
    "\n",
    "    df['clean'] = df[column].apply(basic_clean)\\\n",
    "                            .apply(tokenize)\\\n",
    "                            .apply(remove_stopwords, \n",
    "                                   extra_words=extra_words, \n",
    "                                   exclude_words=exclude_words)\\\n",
    "                            .apply(lemmatize)\n",
    "    \n",
    "    df['stemmed'] = df[column].apply(basic_clean).apply(stem)\n",
    "    \n",
    "    df['lemmatized'] = df[column].apply(basic_clean).apply(lemmatize)\n",
    "    \n",
    "    return df[['title', column, 'stemmed', 'lemmatized', 'clean']]"
   ]
  },
  {
   "cell_type": "code",
   "execution_count": 31,
   "metadata": {},
   "outputs": [
    {
     "data": {
      "text/plain": [
       "'competitor bootcamps closing model danger programming bootcamp model dangerin recent news iron yard announced closing doors big news first programming bootcamp model iron yard national player 15 campuses across us cases companies cited unsustainable business model mean bootcamp model deadtldr nopebootcamps exist traditional education models failed provide students jobready skills 21st century students demand better employment options education employers demand skilled job ready candidates big educations failure meet needs traditional methods created fertile ground new business model programming bootcampeducation giant kaplan apollo education group owner university phoenix bought way new educational model purchased iron yard purchased competition intent scale model unfortunately big education habituated coming short students bought upstarts challenged tried making changes run bootcamps big education way sadly theyve closed doors realized scaling education challenging student outcomes truly matterthe bootcamp model still new plenty consolidation competition changes future model based actually adaptive innovative sustainable theres always room innovationwhat weve learned codeupeducation challenging scaleprioritizing quality growth pays offwhat codeuphigher standards application process leading better student outcomesour reputation commitment quality opening new doors previously uninterestedunreachable employersin beginning majority codeup graduates went work startups small businesses seeing larger amount graduates place medium large sized businessesdemand growing employers learning results graduatescodeups model sustainable inclusive workscall contact us today see codeups commitment quality approach career accelerator make profound difference life'"
      ]
     },
     "execution_count": 31,
     "metadata": {},
     "output_type": "execute_result"
    }
   ],
   "source": [
    "remove_stopwords(basic_string, extra_words = ['Codeup', 'devbootcamp'])"
   ]
  },
  {
   "cell_type": "markdown",
   "metadata": {},
   "source": [
    "### 6. Use your data from the axquire to produce a dataframe of the news articles. Name the dataframe `news_df`:"
   ]
  },
  {
   "cell_type": "code",
   "execution_count": 32,
   "metadata": {},
   "outputs": [
    {
     "data": {
      "text/html": [
       "<div>\n",
       "<style scoped>\n",
       "    .dataframe tbody tr th:only-of-type {\n",
       "        vertical-align: middle;\n",
       "    }\n",
       "\n",
       "    .dataframe tbody tr th {\n",
       "        vertical-align: top;\n",
       "    }\n",
       "\n",
       "    .dataframe thead th {\n",
       "        text-align: right;\n",
       "    }\n",
       "</style>\n",
       "<table border=\"1\" class=\"dataframe\">\n",
       "  <thead>\n",
       "    <tr style=\"text-align: right;\">\n",
       "      <th></th>\n",
       "      <th>title</th>\n",
       "      <th>content</th>\n",
       "      <th>category</th>\n",
       "    </tr>\n",
       "  </thead>\n",
       "  <tbody>\n",
       "    <tr>\n",
       "      <th>0</th>\n",
       "      <td>Musk gets $15bn richer in 2 hours, becomes wor...</td>\n",
       "      <td>Billionaire Elon Musk added $15 billion to his...</td>\n",
       "      <td>technology</td>\n",
       "    </tr>\n",
       "    <tr>\n",
       "      <th>1</th>\n",
       "      <td>Apple testing foldable iPhones, could release ...</td>\n",
       "      <td>Apple has started sending foldable iPhones to ...</td>\n",
       "      <td>technology</td>\n",
       "    </tr>\n",
       "    <tr>\n",
       "      <th>2</th>\n",
       "      <td>Apple products worth $6.6 mn stolen in UK truc...</td>\n",
       "      <td>Apple products worth $6.6 million were stolen ...</td>\n",
       "      <td>technology</td>\n",
       "    </tr>\n",
       "    <tr>\n",
       "      <th>3</th>\n",
       "      <td>Finance ministry gives DGCA approval to set up...</td>\n",
       "      <td>The finance ministry has given its approval to...</td>\n",
       "      <td>technology</td>\n",
       "    </tr>\n",
       "    <tr>\n",
       "      <th>4</th>\n",
       "      <td>Virgin Galactic delays test flight due to lock...</td>\n",
       "      <td>Virgin Galactic on Monday rescheduled its test...</td>\n",
       "      <td>technology</td>\n",
       "    </tr>\n",
       "    <tr>\n",
       "      <th>...</th>\n",
       "      <td>...</td>\n",
       "      <td>...</td>\n",
       "      <td>...</td>\n",
       "    </tr>\n",
       "    <tr>\n",
       "      <th>94</th>\n",
       "      <td>Wonder if people will take the risk: Dilijt on...</td>\n",
       "      <td>Commenting on the theatrical release of his fi...</td>\n",
       "      <td>entertainment</td>\n",
       "    </tr>\n",
       "    <tr>\n",
       "      <th>95</th>\n",
       "      <td>Kissing Booth 3 is going to be released in sum...</td>\n",
       "      <td>While accepting the award for Comedy Movie Sta...</td>\n",
       "      <td>entertainment</td>\n",
       "    </tr>\n",
       "    <tr>\n",
       "      <th>96</th>\n",
       "      <td>Zazie Beetz joins Brad Pitt in action film 'Bu...</td>\n",
       "      <td>Actress Zazie Beetz, who played Domino in 'Dea...</td>\n",
       "      <td>entertainment</td>\n",
       "    </tr>\n",
       "    <tr>\n",
       "      <th>97</th>\n",
       "      <td>It's not easy for big stars to do OTT, but the...</td>\n",
       "      <td>Actress Aahana S Kumra, who has featured in we...</td>\n",
       "      <td>entertainment</td>\n",
       "    </tr>\n",
       "    <tr>\n",
       "      <th>98</th>\n",
       "      <td>Suriya is a humble megastar: Paresh on his 'So...</td>\n",
       "      <td>Paresh Rawal spoke about his experience of wor...</td>\n",
       "      <td>entertainment</td>\n",
       "    </tr>\n",
       "  </tbody>\n",
       "</table>\n",
       "<p>99 rows × 3 columns</p>\n",
       "</div>"
      ],
      "text/plain": [
       "                                                title  \\\n",
       "0   Musk gets $15bn richer in 2 hours, becomes wor...   \n",
       "1   Apple testing foldable iPhones, could release ...   \n",
       "2   Apple products worth $6.6 mn stolen in UK truc...   \n",
       "3   Finance ministry gives DGCA approval to set up...   \n",
       "4   Virgin Galactic delays test flight due to lock...   \n",
       "..                                                ...   \n",
       "94  Wonder if people will take the risk: Dilijt on...   \n",
       "95  Kissing Booth 3 is going to be released in sum...   \n",
       "96  Zazie Beetz joins Brad Pitt in action film 'Bu...   \n",
       "97  It's not easy for big stars to do OTT, but the...   \n",
       "98  Suriya is a humble megastar: Paresh on his 'So...   \n",
       "\n",
       "                                              content       category  \n",
       "0   Billionaire Elon Musk added $15 billion to his...     technology  \n",
       "1   Apple has started sending foldable iPhones to ...     technology  \n",
       "2   Apple products worth $6.6 million were stolen ...     technology  \n",
       "3   The finance ministry has given its approval to...     technology  \n",
       "4   Virgin Galactic on Monday rescheduled its test...     technology  \n",
       "..                                                ...            ...  \n",
       "94  Commenting on the theatrical release of his fi...  entertainment  \n",
       "95  While accepting the award for Comedy Movie Sta...  entertainment  \n",
       "96  Actress Zazie Beetz, who played Domino in 'Dea...  entertainment  \n",
       "97  Actress Aahana S Kumra, who has featured in we...  entertainment  \n",
       "98  Paresh Rawal spoke about his experience of wor...  entertainment  \n",
       "\n",
       "[99 rows x 3 columns]"
      ]
     },
     "execution_count": 32,
     "metadata": {},
     "output_type": "execute_result"
    }
   ],
   "source": [
    "news_df = acquire.build_dataset(source_urls)\n",
    "news_df"
   ]
  },
  {
   "cell_type": "markdown",
   "metadata": {},
   "source": [
    "### 7. Make another dataframe for the Codeup blog posts. Name the dataframe `codeup_df`."
   ]
  },
  {
   "cell_type": "code",
   "execution_count": 33,
   "metadata": {},
   "outputs": [],
   "source": [
    "urls = acquire.get_all_urls()"
   ]
  },
  {
   "cell_type": "code",
   "execution_count": 34,
   "metadata": {},
   "outputs": [
    {
     "data": {
      "text/html": [
       "<div>\n",
       "<style scoped>\n",
       "    .dataframe tbody tr th:only-of-type {\n",
       "        vertical-align: middle;\n",
       "    }\n",
       "\n",
       "    .dataframe tbody tr th {\n",
       "        vertical-align: top;\n",
       "    }\n",
       "\n",
       "    .dataframe thead th {\n",
       "        text-align: right;\n",
       "    }\n",
       "</style>\n",
       "<table border=\"1\" class=\"dataframe\">\n",
       "  <thead>\n",
       "    <tr style=\"text-align: right;\">\n",
       "      <th></th>\n",
       "      <th>title</th>\n",
       "      <th>content</th>\n",
       "    </tr>\n",
       "  </thead>\n",
       "  <tbody>\n",
       "    <tr>\n",
       "      <th>0</th>\n",
       "      <td>What Data Science Career is For You?</td>\n",
       "      <td>If you’re struggling to see yourself as a data...</td>\n",
       "    </tr>\n",
       "    <tr>\n",
       "      <th>1</th>\n",
       "      <td>What to Expect at Codeup</td>\n",
       "      <td>Setting Expectations for Life Before, During, ...</td>\n",
       "    </tr>\n",
       "    <tr>\n",
       "      <th>2</th>\n",
       "      <td>Introducing Our Salary Refund Guarantee</td>\n",
       "      <td>Here at Codeup, we believe it’s time to revolu...</td>\n",
       "    </tr>\n",
       "    <tr>\n",
       "      <th>3</th>\n",
       "      <td>Codeup on Inc. 5000 Fastest Growing Private Co...</td>\n",
       "      <td>We’re excited to announce a huge Codeup achiev...</td>\n",
       "    </tr>\n",
       "    <tr>\n",
       "      <th>4</th>\n",
       "      <td>What are the Math and Stats Principles You Nee...</td>\n",
       "      <td>Coming into our Data Science program, you will...</td>\n",
       "    </tr>\n",
       "    <tr>\n",
       "      <th>5</th>\n",
       "      <td>How Codeup Alumni Helped Dallas Youth Fight CO...</td>\n",
       "      <td>Three of our Web Development alumni from Dalla...</td>\n",
       "    </tr>\n",
       "    <tr>\n",
       "      <th>6</th>\n",
       "      <td>How We’re Celebrating World Mental Health Day ...</td>\n",
       "      <td>World Mental Health Day is on October 10th. Al...</td>\n",
       "    </tr>\n",
       "    <tr>\n",
       "      <th>7</th>\n",
       "      <td>How Codeup Alumni are Helping to Make Water</td>\n",
       "      <td>Imagine having a kit mailed to you with all th...</td>\n",
       "    </tr>\n",
       "    <tr>\n",
       "      <th>8</th>\n",
       "      <td>Codeup Grads Win CivTech Datathon</td>\n",
       "      <td>Many Codeup alumni enjoy competing in hackatho...</td>\n",
       "    </tr>\n",
       "    <tr>\n",
       "      <th>9</th>\n",
       "      <td>Your Education is an Investment</td>\n",
       "      <td>You have many options regarding educational ro...</td>\n",
       "    </tr>\n",
       "    <tr>\n",
       "      <th>10</th>\n",
       "      <td>What is the Transition into Data Science Like?</td>\n",
       "      <td>Alumni Katy Salts and Brandi Reger joined us a...</td>\n",
       "    </tr>\n",
       "    <tr>\n",
       "      <th>11</th>\n",
       "      <td>What is Machine Learning?</td>\n",
       "      <td>There’s a lot we can learn about machines, and...</td>\n",
       "    </tr>\n",
       "    <tr>\n",
       "      <th>12</th>\n",
       "      <td>From Slacker to Data Scientist: Journey to Dat...</td>\n",
       "      <td>Butterflies in my belly; my stomach is tied up...</td>\n",
       "    </tr>\n",
       "    <tr>\n",
       "      <th>13</th>\n",
       "      <td>What is Python?</td>\n",
       "      <td>If you’ve been digging around our website or r...</td>\n",
       "    </tr>\n",
       "    <tr>\n",
       "      <th>14</th>\n",
       "      <td>Build Your Career in Tech: Advice from Alumni!</td>\n",
       "      <td>Bryan Walsh, Codeup Web Development alum, and ...</td>\n",
       "    </tr>\n",
       "    <tr>\n",
       "      <th>15</th>\n",
       "      <td>How to Succeed in a Coding Bootcamp</td>\n",
       "      <td>We held a virtual event called “How to Succeed...</td>\n",
       "    </tr>\n",
       "    <tr>\n",
       "      <th>16</th>\n",
       "      <td>Codeup Launches Houston!</td>\n",
       "      <td>Houston, we have a problem: there aren’t enoug...</td>\n",
       "    </tr>\n",
       "    <tr>\n",
       "      <th>17</th>\n",
       "      <td>Announcing: The Annie Easley Scholarship to Su...</td>\n",
       "      <td>We have an exciting announcement! We’re launch...</td>\n",
       "    </tr>\n",
       "    <tr>\n",
       "      <th>18</th>\n",
       "      <td>Alumni Share their Journey into Web Development</td>\n",
       "      <td>Everyone starts somewhere. Many developers out...</td>\n",
       "    </tr>\n",
       "    <tr>\n",
       "      <th>19</th>\n",
       "      <td>What is Codeup’s Application Process?</td>\n",
       "      <td>Curious about Codeup’s application process? Wo...</td>\n",
       "    </tr>\n",
       "  </tbody>\n",
       "</table>\n",
       "</div>"
      ],
      "text/plain": [
       "                                                title  \\\n",
       "0                What Data Science Career is For You?   \n",
       "1                            What to Expect at Codeup   \n",
       "2             Introducing Our Salary Refund Guarantee   \n",
       "3   Codeup on Inc. 5000 Fastest Growing Private Co...   \n",
       "4   What are the Math and Stats Principles You Nee...   \n",
       "5   How Codeup Alumni Helped Dallas Youth Fight CO...   \n",
       "6   How We’re Celebrating World Mental Health Day ...   \n",
       "7         How Codeup Alumni are Helping to Make Water   \n",
       "8                   Codeup Grads Win CivTech Datathon   \n",
       "9                     Your Education is an Investment   \n",
       "10     What is the Transition into Data Science Like?   \n",
       "11                          What is Machine Learning?   \n",
       "12  From Slacker to Data Scientist: Journey to Dat...   \n",
       "13                                    What is Python?   \n",
       "14     Build Your Career in Tech: Advice from Alumni!   \n",
       "15                How to Succeed in a Coding Bootcamp   \n",
       "16                           Codeup Launches Houston!   \n",
       "17  Announcing: The Annie Easley Scholarship to Su...   \n",
       "18    Alumni Share their Journey into Web Development   \n",
       "19              What is Codeup’s Application Process?   \n",
       "\n",
       "                                              content  \n",
       "0   If you’re struggling to see yourself as a data...  \n",
       "1   Setting Expectations for Life Before, During, ...  \n",
       "2   Here at Codeup, we believe it’s time to revolu...  \n",
       "3   We’re excited to announce a huge Codeup achiev...  \n",
       "4   Coming into our Data Science program, you will...  \n",
       "5   Three of our Web Development alumni from Dalla...  \n",
       "6   World Mental Health Day is on October 10th. Al...  \n",
       "7   Imagine having a kit mailed to you with all th...  \n",
       "8   Many Codeup alumni enjoy competing in hackatho...  \n",
       "9   You have many options regarding educational ro...  \n",
       "10  Alumni Katy Salts and Brandi Reger joined us a...  \n",
       "11  There’s a lot we can learn about machines, and...  \n",
       "12  Butterflies in my belly; my stomach is tied up...  \n",
       "13  If you’ve been digging around our website or r...  \n",
       "14  Bryan Walsh, Codeup Web Development alum, and ...  \n",
       "15  We held a virtual event called “How to Succeed...  \n",
       "16  Houston, we have a problem: there aren’t enoug...  \n",
       "17  We have an exciting announcement! We’re launch...  \n",
       "18  Everyone starts somewhere. Many developers out...  \n",
       "19  Curious about Codeup’s application process? Wo...  "
      ]
     },
     "execution_count": 34,
     "metadata": {},
     "output_type": "execute_result"
    }
   ],
   "source": [
    "codeup_df = acquire.get_blog_articles(urls, cached = False)\n",
    "codeup_df"
   ]
  },
  {
   "cell_type": "markdown",
   "metadata": {},
   "source": [
    "### 8. For each dataframe, produce the following columns:\n",
    "\n",
    "- `title` to hold the title\n",
    "- `original` to hold the original article/post content\n",
    "- `clean` to hold the normalized and tokenized original with the stopwords removed.\n",
    "- `stemmed` to hold the stemmed version of the cleaned data.\n",
    "- `lemmatized` to hold the lemmatized version of the cleaned data."
   ]
  },
  {
   "cell_type": "code",
   "execution_count": 39,
   "metadata": {},
   "outputs": [
    {
     "data": {
      "text/html": [
       "<div>\n",
       "<style scoped>\n",
       "    .dataframe tbody tr th:only-of-type {\n",
       "        vertical-align: middle;\n",
       "    }\n",
       "\n",
       "    .dataframe tbody tr th {\n",
       "        vertical-align: top;\n",
       "    }\n",
       "\n",
       "    .dataframe thead th {\n",
       "        text-align: right;\n",
       "    }\n",
       "</style>\n",
       "<table border=\"1\" class=\"dataframe\">\n",
       "  <thead>\n",
       "    <tr style=\"text-align: right;\">\n",
       "      <th></th>\n",
       "      <th>title</th>\n",
       "      <th>content</th>\n",
       "      <th>clean</th>\n",
       "    </tr>\n",
       "  </thead>\n",
       "  <tbody>\n",
       "    <tr>\n",
       "      <th>0</th>\n",
       "      <td>What Data Science Career is For You?</td>\n",
       "      <td>If you’re struggling to see yourself as a data...</td>\n",
       "      <td>if youre struggling to see yourself as a data ...</td>\n",
       "    </tr>\n",
       "    <tr>\n",
       "      <th>1</th>\n",
       "      <td>What to Expect at Codeup</td>\n",
       "      <td>Setting Expectations for Life Before, During, ...</td>\n",
       "      <td>setting expectations for life before during an...</td>\n",
       "    </tr>\n",
       "    <tr>\n",
       "      <th>2</th>\n",
       "      <td>Introducing Our Salary Refund Guarantee</td>\n",
       "      <td>Here at Codeup, we believe it’s time to revolu...</td>\n",
       "      <td>here at codeup we believe its time to revoluti...</td>\n",
       "    </tr>\n",
       "    <tr>\n",
       "      <th>3</th>\n",
       "      <td>Codeup on Inc. 5000 Fastest Growing Private Co...</td>\n",
       "      <td>We’re excited to announce a huge Codeup achiev...</td>\n",
       "      <td>were excited to announce a huge codeup achieve...</td>\n",
       "    </tr>\n",
       "    <tr>\n",
       "      <th>4</th>\n",
       "      <td>What are the Math and Stats Principles You Nee...</td>\n",
       "      <td>Coming into our Data Science program, you will...</td>\n",
       "      <td>coming into our data science program you will ...</td>\n",
       "    </tr>\n",
       "  </tbody>\n",
       "</table>\n",
       "</div>"
      ],
      "text/plain": [
       "                                               title  \\\n",
       "0               What Data Science Career is For You?   \n",
       "1                           What to Expect at Codeup   \n",
       "2            Introducing Our Salary Refund Guarantee   \n",
       "3  Codeup on Inc. 5000 Fastest Growing Private Co...   \n",
       "4  What are the Math and Stats Principles You Nee...   \n",
       "\n",
       "                                             content  \\\n",
       "0  If you’re struggling to see yourself as a data...   \n",
       "1  Setting Expectations for Life Before, During, ...   \n",
       "2  Here at Codeup, we believe it’s time to revolu...   \n",
       "3  We’re excited to announce a huge Codeup achiev...   \n",
       "4  Coming into our Data Science program, you will...   \n",
       "\n",
       "                                               clean  \n",
       "0  if youre struggling to see yourself as a data ...  \n",
       "1  setting expectations for life before during an...  \n",
       "2  here at codeup we believe its time to revoluti...  \n",
       "3  were excited to announce a huge codeup achieve...  \n",
       "4  coming into our data science program you will ...  "
      ]
     },
     "execution_count": 39,
     "metadata": {},
     "output_type": "execute_result"
    }
   ],
   "source": [
    "codeup_df['clean'] = codeup_df['content'].apply(basic_clean)\n",
    "codeup_df.head()"
   ]
  },
  {
   "cell_type": "code",
   "execution_count": 40,
   "metadata": {},
   "outputs": [
    {
     "data": {
      "text/html": [
       "<div>\n",
       "<style scoped>\n",
       "    .dataframe tbody tr th:only-of-type {\n",
       "        vertical-align: middle;\n",
       "    }\n",
       "\n",
       "    .dataframe tbody tr th {\n",
       "        vertical-align: top;\n",
       "    }\n",
       "\n",
       "    .dataframe thead th {\n",
       "        text-align: right;\n",
       "    }\n",
       "</style>\n",
       "<table border=\"1\" class=\"dataframe\">\n",
       "  <thead>\n",
       "    <tr style=\"text-align: right;\">\n",
       "      <th></th>\n",
       "      <th>title</th>\n",
       "      <th>content</th>\n",
       "      <th>clean</th>\n",
       "      <th>stemmed</th>\n",
       "    </tr>\n",
       "  </thead>\n",
       "  <tbody>\n",
       "    <tr>\n",
       "      <th>0</th>\n",
       "      <td>What Data Science Career is For You?</td>\n",
       "      <td>If you’re struggling to see yourself as a data...</td>\n",
       "      <td>if youre struggling to see yourself as a data ...</td>\n",
       "      <td>if your struggl to see yourself as a data scie...</td>\n",
       "    </tr>\n",
       "    <tr>\n",
       "      <th>1</th>\n",
       "      <td>What to Expect at Codeup</td>\n",
       "      <td>Setting Expectations for Life Before, During, ...</td>\n",
       "      <td>setting expectations for life before during an...</td>\n",
       "      <td>set expect for life befor dure and after codeu...</td>\n",
       "    </tr>\n",
       "    <tr>\n",
       "      <th>2</th>\n",
       "      <td>Introducing Our Salary Refund Guarantee</td>\n",
       "      <td>Here at Codeup, we believe it’s time to revolu...</td>\n",
       "      <td>here at codeup we believe its time to revoluti...</td>\n",
       "      <td>here at codeup we believ it time to revolution...</td>\n",
       "    </tr>\n",
       "    <tr>\n",
       "      <th>3</th>\n",
       "      <td>Codeup on Inc. 5000 Fastest Growing Private Co...</td>\n",
       "      <td>We’re excited to announce a huge Codeup achiev...</td>\n",
       "      <td>were excited to announce a huge codeup achieve...</td>\n",
       "      <td>were excit to announc a huge codeup achiev inc...</td>\n",
       "    </tr>\n",
       "    <tr>\n",
       "      <th>4</th>\n",
       "      <td>What are the Math and Stats Principles You Nee...</td>\n",
       "      <td>Coming into our Data Science program, you will...</td>\n",
       "      <td>coming into our data science program you will ...</td>\n",
       "      <td>come into our data scienc program you will nee...</td>\n",
       "    </tr>\n",
       "  </tbody>\n",
       "</table>\n",
       "</div>"
      ],
      "text/plain": [
       "                                               title  \\\n",
       "0               What Data Science Career is For You?   \n",
       "1                           What to Expect at Codeup   \n",
       "2            Introducing Our Salary Refund Guarantee   \n",
       "3  Codeup on Inc. 5000 Fastest Growing Private Co...   \n",
       "4  What are the Math and Stats Principles You Nee...   \n",
       "\n",
       "                                             content  \\\n",
       "0  If you’re struggling to see yourself as a data...   \n",
       "1  Setting Expectations for Life Before, During, ...   \n",
       "2  Here at Codeup, we believe it’s time to revolu...   \n",
       "3  We’re excited to announce a huge Codeup achiev...   \n",
       "4  Coming into our Data Science program, you will...   \n",
       "\n",
       "                                               clean  \\\n",
       "0  if youre struggling to see yourself as a data ...   \n",
       "1  setting expectations for life before during an...   \n",
       "2  here at codeup we believe its time to revoluti...   \n",
       "3  were excited to announce a huge codeup achieve...   \n",
       "4  coming into our data science program you will ...   \n",
       "\n",
       "                                             stemmed  \n",
       "0  if your struggl to see yourself as a data scie...  \n",
       "1  set expect for life befor dure and after codeu...  \n",
       "2  here at codeup we believ it time to revolution...  \n",
       "3  were excit to announc a huge codeup achiev inc...  \n",
       "4  come into our data scienc program you will nee...  "
      ]
     },
     "execution_count": 40,
     "metadata": {},
     "output_type": "execute_result"
    }
   ],
   "source": [
    "codeup_df['stemmed'] = codeup_df['content'].apply(basic_clean).apply(stem)\n",
    "codeup_df.head()"
   ]
  },
  {
   "cell_type": "code",
   "execution_count": 41,
   "metadata": {},
   "outputs": [
    {
     "data": {
      "text/html": [
       "<div>\n",
       "<style scoped>\n",
       "    .dataframe tbody tr th:only-of-type {\n",
       "        vertical-align: middle;\n",
       "    }\n",
       "\n",
       "    .dataframe tbody tr th {\n",
       "        vertical-align: top;\n",
       "    }\n",
       "\n",
       "    .dataframe thead th {\n",
       "        text-align: right;\n",
       "    }\n",
       "</style>\n",
       "<table border=\"1\" class=\"dataframe\">\n",
       "  <thead>\n",
       "    <tr style=\"text-align: right;\">\n",
       "      <th></th>\n",
       "      <th>title</th>\n",
       "      <th>content</th>\n",
       "      <th>clean</th>\n",
       "      <th>stemmed</th>\n",
       "      <th>lemmatized</th>\n",
       "    </tr>\n",
       "  </thead>\n",
       "  <tbody>\n",
       "    <tr>\n",
       "      <th>0</th>\n",
       "      <td>What Data Science Career is For You?</td>\n",
       "      <td>If you’re struggling to see yourself as a data...</td>\n",
       "      <td>if youre struggling to see yourself as a data ...</td>\n",
       "      <td>if your struggl to see yourself as a data scie...</td>\n",
       "      <td>if youre struggling to see yourself a a data s...</td>\n",
       "    </tr>\n",
       "    <tr>\n",
       "      <th>1</th>\n",
       "      <td>What to Expect at Codeup</td>\n",
       "      <td>Setting Expectations for Life Before, During, ...</td>\n",
       "      <td>setting expectations for life before during an...</td>\n",
       "      <td>set expect for life befor dure and after codeu...</td>\n",
       "      <td>setting expectation for life before during and...</td>\n",
       "    </tr>\n",
       "    <tr>\n",
       "      <th>2</th>\n",
       "      <td>Introducing Our Salary Refund Guarantee</td>\n",
       "      <td>Here at Codeup, we believe it’s time to revolu...</td>\n",
       "      <td>here at codeup we believe its time to revoluti...</td>\n",
       "      <td>here at codeup we believ it time to revolution...</td>\n",
       "      <td>here at codeup we believe it time to revolutio...</td>\n",
       "    </tr>\n",
       "    <tr>\n",
       "      <th>3</th>\n",
       "      <td>Codeup on Inc. 5000 Fastest Growing Private Co...</td>\n",
       "      <td>We’re excited to announce a huge Codeup achiev...</td>\n",
       "      <td>were excited to announce a huge codeup achieve...</td>\n",
       "      <td>were excit to announc a huge codeup achiev inc...</td>\n",
       "      <td>were excited to announce a huge codeup achieve...</td>\n",
       "    </tr>\n",
       "    <tr>\n",
       "      <th>4</th>\n",
       "      <td>What are the Math and Stats Principles You Nee...</td>\n",
       "      <td>Coming into our Data Science program, you will...</td>\n",
       "      <td>coming into our data science program you will ...</td>\n",
       "      <td>come into our data scienc program you will nee...</td>\n",
       "      <td>coming into our data science program you will ...</td>\n",
       "    </tr>\n",
       "  </tbody>\n",
       "</table>\n",
       "</div>"
      ],
      "text/plain": [
       "                                               title  \\\n",
       "0               What Data Science Career is For You?   \n",
       "1                           What to Expect at Codeup   \n",
       "2            Introducing Our Salary Refund Guarantee   \n",
       "3  Codeup on Inc. 5000 Fastest Growing Private Co...   \n",
       "4  What are the Math and Stats Principles You Nee...   \n",
       "\n",
       "                                             content  \\\n",
       "0  If you’re struggling to see yourself as a data...   \n",
       "1  Setting Expectations for Life Before, During, ...   \n",
       "2  Here at Codeup, we believe it’s time to revolu...   \n",
       "3  We’re excited to announce a huge Codeup achiev...   \n",
       "4  Coming into our Data Science program, you will...   \n",
       "\n",
       "                                               clean  \\\n",
       "0  if youre struggling to see yourself as a data ...   \n",
       "1  setting expectations for life before during an...   \n",
       "2  here at codeup we believe its time to revoluti...   \n",
       "3  were excited to announce a huge codeup achieve...   \n",
       "4  coming into our data science program you will ...   \n",
       "\n",
       "                                             stemmed  \\\n",
       "0  if your struggl to see yourself as a data scie...   \n",
       "1  set expect for life befor dure and after codeu...   \n",
       "2  here at codeup we believ it time to revolution...   \n",
       "3  were excit to announc a huge codeup achiev inc...   \n",
       "4  come into our data scienc program you will nee...   \n",
       "\n",
       "                                          lemmatized  \n",
       "0  if youre struggling to see yourself a a data s...  \n",
       "1  setting expectation for life before during and...  \n",
       "2  here at codeup we believe it time to revolutio...  \n",
       "3  were excited to announce a huge codeup achieve...  \n",
       "4  coming into our data science program you will ...  "
      ]
     },
     "execution_count": 41,
     "metadata": {},
     "output_type": "execute_result"
    }
   ],
   "source": [
    "codeup_df['lemmatized'] = codeup_df['content'].apply(basic_clean).apply(lemmatize)\n",
    "codeup_df.head()"
   ]
  },
  {
   "cell_type": "markdown",
   "metadata": {},
   "source": [
    "#### Takeaway:\n",
    "\n",
    "- Here we basically created all the steps we need to include in the function individually.\n",
    "- The only steps that need to be added to the function that are not in the above cells is the renaming of the columns to match the exercise assignment specifically."
   ]
  },
  {
   "cell_type": "markdown",
   "metadata": {},
   "source": [
    "#### Final Function that does all of the above steps"
   ]
  },
  {
   "cell_type": "code",
   "execution_count": 42,
   "metadata": {},
   "outputs": [],
   "source": [
    "# Tried building a final function but I got messed up on the final column rename - need to figure out how to do it correctly. Then will input here and in the prepare.py file."
   ]
  },
  {
   "cell_type": "markdown",
   "metadata": {},
   "source": [
    "### 9. Ask yourself:\n",
    "\n",
    "- If your corpus is 493KB, would you prefer to use stemmed or lemmatized text?\n",
    "- If your corpus is 25MB, would you prefer to use stemmed or lemmatized text?\n",
    "- If your corpus is 200TB of text and you're charged by the megabyte for your hosted computational resources, would you prefer to use stemmed or lemmatized text?"
   ]
  },
  {
   "cell_type": "markdown",
   "metadata": {},
   "source": [
    "#### Answers:\n",
    "\n",
    "- With a corpus of 493k, lemmatize wouldn't take much processing power, thus I would use lemmatize.\n",
    "- With a corpus of 25MB, lemmatize still wouldn't take much processing power, thus I would still use lemmatize.\n",
    "- With a corpus of 200TB, with fees associated with computational resources, I would want to be as computationally efficient as possible, thus I'd use stemmed text."
   ]
  }
 ],
 "metadata": {
  "kernelspec": {
   "display_name": "Python 3",
   "language": "python",
   "name": "python3"
  },
  "language_info": {
   "codemirror_mode": {
    "name": "ipython",
    "version": 3
   },
   "file_extension": ".py",
   "mimetype": "text/x-python",
   "name": "python",
   "nbconvert_exporter": "python",
   "pygments_lexer": "ipython3",
   "version": "3.7.9"
  }
 },
 "nbformat": 4,
 "nbformat_minor": 4
}
