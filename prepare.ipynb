{
 "cells": [
  {
   "cell_type": "code",
   "execution_count": 1,
   "metadata": {},
   "outputs": [
    {
     "name": "stdout",
     "output_type": "stream",
     "text": [
      "All acquire functions loaded properly.\n"
     ]
    }
   ],
   "source": [
    "from requests import get\n",
    "from bs4 import BeautifulSoup\n",
    "import pandas as pd\n",
    "import numpy as np\n",
    "import matplotlib.pyplot as plt\n",
    "import os\n",
    "\n",
    "import unicodedata\n",
    "import re\n",
    "import json\n",
    "\n",
    "import nltk\n",
    "from nltk.tokenize.toktok import ToktokTokenizer\n",
    "from nltk.corpus import stopwords\n",
    "\n",
    "import acquire"
   ]
  },
  {
   "cell_type": "code",
   "execution_count": 2,
   "metadata": {},
   "outputs": [],
   "source": [
    "source_urls = ['https://inshorts.com/en/read/technology',\n",
    "             'https://inshorts.com/en/read/sports',\n",
    "             'https://inshorts.com/en/read/business',\n",
    "             'https://inshorts.com/en/read/entertainment']"
   ]
  },
  {
   "cell_type": "code",
   "execution_count": 6,
   "metadata": {},
   "outputs": [],
   "source": [
    "original_df = acquire.build_dataset(source_urls)"
   ]
  },
  {
   "cell_type": "code",
   "execution_count": 7,
   "metadata": {},
   "outputs": [
    {
     "data": {
      "text/html": [
       "<div>\n",
       "<style scoped>\n",
       "    .dataframe tbody tr th:only-of-type {\n",
       "        vertical-align: middle;\n",
       "    }\n",
       "\n",
       "    .dataframe tbody tr th {\n",
       "        vertical-align: top;\n",
       "    }\n",
       "\n",
       "    .dataframe thead th {\n",
       "        text-align: right;\n",
       "    }\n",
       "</style>\n",
       "<table border=\"1\" class=\"dataframe\">\n",
       "  <thead>\n",
       "    <tr style=\"text-align: right;\">\n",
       "      <th></th>\n",
       "      <th>title</th>\n",
       "      <th>content</th>\n",
       "      <th>category</th>\n",
       "    </tr>\n",
       "  </thead>\n",
       "  <tbody>\n",
       "    <tr>\n",
       "      <th>0</th>\n",
       "      <td>SpaceX launches 4 astronauts on its first comm...</td>\n",
       "      <td>Elon Musk-led SpaceX successfully launched fou...</td>\n",
       "      <td>technology</td>\n",
       "    </tr>\n",
       "    <tr>\n",
       "      <th>1</th>\n",
       "      <td>Who are the 4 astronauts on SpaceX's 1st comme...</td>\n",
       "      <td>The astronauts on SpaceX's first commercial cr...</td>\n",
       "      <td>technology</td>\n",
       "    </tr>\n",
       "    <tr>\n",
       "      <th>2</th>\n",
       "      <td>Zoom meetings could be behind surge in demand ...</td>\n",
       "      <td>The increase in the number of Zoom meetings du...</td>\n",
       "      <td>technology</td>\n",
       "    </tr>\n",
       "    <tr>\n",
       "      <th>3</th>\n",
       "      <td>Tesla opens its largest EV super-charging stat...</td>\n",
       "      <td>Tesla has opened its largest Supercharger stat...</td>\n",
       "      <td>technology</td>\n",
       "    </tr>\n",
       "    <tr>\n",
       "      <th>4</th>\n",
       "      <td>Man loses ₹5.85L to cyber fraudsters claiming ...</td>\n",
       "      <td>A 54-year-old Bengaluru man allegedly lost ₹5....</td>\n",
       "      <td>technology</td>\n",
       "    </tr>\n",
       "    <tr>\n",
       "      <th>...</th>\n",
       "      <td>...</td>\n",
       "      <td>...</td>\n",
       "      <td>...</td>\n",
       "    </tr>\n",
       "    <tr>\n",
       "      <th>94</th>\n",
       "      <td>Lost a family member: Satyajit Ray's son on So...</td>\n",
       "      <td>Following the demise of Bengali actor Soumitra...</td>\n",
       "      <td>entertainment</td>\n",
       "    </tr>\n",
       "    <tr>\n",
       "      <th>95</th>\n",
       "      <td>Matrix 4 breaks Germany's COVID-19 laws by hos...</td>\n",
       "      <td>The team of Keanu Reeves' upcoming film 'The M...</td>\n",
       "      <td>entertainment</td>\n",
       "    </tr>\n",
       "    <tr>\n",
       "      <th>96</th>\n",
       "      <td>Do something original: 'Home Alone' director o...</td>\n",
       "      <td>Chris Columbus, Director of 'Home Alone', crit...</td>\n",
       "      <td>entertainment</td>\n",
       "    </tr>\n",
       "    <tr>\n",
       "      <th>97</th>\n",
       "      <td>Aditya to start shooting for upcoming action f...</td>\n",
       "      <td>Actor Aditya Roy Kapur will start shooting for...</td>\n",
       "      <td>entertainment</td>\n",
       "    </tr>\n",
       "    <tr>\n",
       "      <th>98</th>\n",
       "      <td>You have to follow the studio: Jude Law on Dep...</td>\n",
       "      <td>Actor Jude Law, who plays younger Albus Dumble...</td>\n",
       "      <td>entertainment</td>\n",
       "    </tr>\n",
       "  </tbody>\n",
       "</table>\n",
       "<p>99 rows × 3 columns</p>\n",
       "</div>"
      ],
      "text/plain": [
       "                                                title  \\\n",
       "0   SpaceX launches 4 astronauts on its first comm...   \n",
       "1   Who are the 4 astronauts on SpaceX's 1st comme...   \n",
       "2   Zoom meetings could be behind surge in demand ...   \n",
       "3   Tesla opens its largest EV super-charging stat...   \n",
       "4   Man loses ₹5.85L to cyber fraudsters claiming ...   \n",
       "..                                                ...   \n",
       "94  Lost a family member: Satyajit Ray's son on So...   \n",
       "95  Matrix 4 breaks Germany's COVID-19 laws by hos...   \n",
       "96  Do something original: 'Home Alone' director o...   \n",
       "97  Aditya to start shooting for upcoming action f...   \n",
       "98  You have to follow the studio: Jude Law on Dep...   \n",
       "\n",
       "                                              content       category  \n",
       "0   Elon Musk-led SpaceX successfully launched fou...     technology  \n",
       "1   The astronauts on SpaceX's first commercial cr...     technology  \n",
       "2   The increase in the number of Zoom meetings du...     technology  \n",
       "3   Tesla has opened its largest Supercharger stat...     technology  \n",
       "4   A 54-year-old Bengaluru man allegedly lost ₹5....     technology  \n",
       "..                                                ...            ...  \n",
       "94  Following the demise of Bengali actor Soumitra...  entertainment  \n",
       "95  The team of Keanu Reeves' upcoming film 'The M...  entertainment  \n",
       "96  Chris Columbus, Director of 'Home Alone', crit...  entertainment  \n",
       "97  Actor Aditya Roy Kapur will start shooting for...  entertainment  \n",
       "98  Actor Jude Law, who plays younger Albus Dumble...  entertainment  \n",
       "\n",
       "[99 rows x 3 columns]"
      ]
     },
     "execution_count": 7,
     "metadata": {},
     "output_type": "execute_result"
    }
   ],
   "source": [
    "original_df"
   ]
  },
  {
   "cell_type": "code",
   "execution_count": 9,
   "metadata": {},
   "outputs": [],
   "source": [
    "url = 'https://codeup.com/codeups-data-science-career-accelerator-is-here/'\n",
    "original = acquire.get_article_text(url)"
   ]
  },
  {
   "cell_type": "code",
   "execution_count": 10,
   "metadata": {},
   "outputs": [
    {
     "data": {
      "text/plain": [
       "'Competitor Bootcamps Are Closing. Is the Model in Danger?\\n\\xa0\\n\\nIs the programming bootcamp model in danger?\\nIn recent news, DevBootcamp and The Iron Yard announced that they are closing their doors. This is big news. DevBootcamp was the first programming bootcamp model and The Iron Yard is a national player with 15 campuses across the U.S. In both cases, the companies cited an unsustainable business model. Does that mean the boot-camp model is dead?\\n\\ntl;dr “Nope!”\\nBootcamps exist because traditional education models have failed to provide students job-ready skills for the 21st century. Students demand better employment options from their education. Employers demand skilled and job ready candidates. Big Education’s failure to meet those needs through traditional methods created the fertile ground for the new business model of the programming bootcamp.\\nEducation giant Kaplan and Apollo Education Group (owner of University of Phoenix) bought their way into this new educational model when they purchased The Iron Yard and DevBootcamp. They purchased their competition with the intent to scale up the model. Unfortunately, Big Education is too habituated to coming up short for students. They bought the upstarts that challenged them, tried making changes to run those bootcamps in the “Big Education” way, and, sadly, they’ve closed the doors when they realized that scaling education is more challenging when student outcomes truly matter.\\nThe bootcamp model is still new and there will be plenty consolidation, competition, and changes in the future. This model is based on actually being adaptive, innovative, and sustainable. And there’s always room for innovation.\\n\\n\\nWhat we’ve learned at Codeup…\\n\\n\\nEducation is challenging to scale.\\nPrioritizing quality over growth pays off.\\n\\nWhat we’re doing at Codeup…\\n\\nHigher standards in our application process are leading to better student outcomes.\\nOur reputation and commitment to quality is opening new doors to previously uninterested/unreachable employers.\\nIn the beginning, the majority of Codeup graduates went to work with startups and small businesses. We’re now seeing a larger amount of our graduates place at medium to large sized businesses.\\nDemand is growing and employers are learning that the results are in the graduates.\\nCodeup’s model is sustainable, inclusive, and works.\\n\\nCall or contact us today to see how Codeup’s commitment to quality and approach to being a career accelerator can make a profound difference in your life.\\n\\n'"
      ]
     },
     "execution_count": 10,
     "metadata": {},
     "output_type": "execute_result"
    }
   ],
   "source": [
    "original"
   ]
  },
  {
   "cell_type": "code",
   "execution_count": 12,
   "metadata": {},
   "outputs": [
    {
     "name": "stdout",
     "output_type": "stream",
     "text": [
      "competitor bootcamps are closing. is the model in danger?\n",
      " \n",
      "\n",
      "is the programming bootcamp model in danger?\n",
      "in recent news, devbootcamp and the iron yard announced that they are closing their doors. this is big news. devbootcamp was the first programming bootcamp model and the iron yard is a national player with 15 campuses across the u.s. in both cases, the companies cited an unsustainable business model. does that mean the boot-camp model is dead?\n",
      "\n",
      "tl;dr “nope!”\n",
      "bootcamps exist because traditional education models have failed to provide students job-ready skills for the 21st century. students demand better employment options from their education. employers demand skilled and job ready candidates. big education’s failure to meet those needs through traditional methods created the fertile ground for the new business model of the programming bootcamp.\n",
      "education giant kaplan and apollo education group (owner of university of phoenix) bought their way into this new educational model when they purchased the iron yard and devbootcamp. they purchased their competition with the intent to scale up the model. unfortunately, big education is too habituated to coming up short for students. they bought the upstarts that challenged them, tried making changes to run those bootcamps in the “big education” way, and, sadly, they’ve closed the doors when they realized that scaling education is more challenging when student outcomes truly matter.\n",
      "the bootcamp model is still new and there will be plenty consolidation, competition, and changes in the future. this model is based on actually being adaptive, innovative, and sustainable. and there’s always room for innovation.\n",
      "\n",
      "\n",
      "what we’ve learned at codeup…\n",
      "\n",
      "\n",
      "education is challenging to scale.\n",
      "prioritizing quality over growth pays off.\n",
      "\n",
      "what we’re doing at codeup…\n",
      "\n",
      "higher standards in our application process are leading to better student outcomes.\n",
      "our reputation and commitment to quality is opening new doors to previously uninterested/unreachable employers.\n",
      "in the beginning, the majority of codeup graduates went to work with startups and small businesses. we’re now seeing a larger amount of our graduates place at medium to large sized businesses.\n",
      "demand is growing and employers are learning that the results are in the graduates.\n",
      "codeup’s model is sustainable, inclusive, and works.\n",
      "\n",
      "call or contact us today to see how codeup’s commitment to quality and approach to being a career accelerator can make a profound difference in your life.\n",
      "\n",
      "\n"
     ]
    }
   ],
   "source": [
    "article = original.lower()\n",
    "print(article)"
   ]
  },
  {
   "cell_type": "code",
   "execution_count": 13,
   "metadata": {},
   "outputs": [
    {
     "name": "stdout",
     "output_type": "stream",
     "text": [
      "competitor bootcamps are closing. is the model in danger?\n",
      " \n",
      "\n",
      "is the programming bootcamp model in danger?\n",
      "in recent news, devbootcamp and the iron yard announced that they are closing their doors. this is big news. devbootcamp was the first programming bootcamp model and the iron yard is a national player with 15 campuses across the u.s. in both cases, the companies cited an unsustainable business model. does that mean the boot-camp model is dead?\n",
      "\n",
      "tl;dr nope!\n",
      "bootcamps exist because traditional education models have failed to provide students job-ready skills for the 21st century. students demand better employment options from their education. employers demand skilled and job ready candidates. big educations failure to meet those needs through traditional methods created the fertile ground for the new business model of the programming bootcamp.\n",
      "education giant kaplan and apollo education group (owner of university of phoenix) bought their way into this new educational model when they purchased the iron yard and devbootcamp. they purchased their competition with the intent to scale up the model. unfortunately, big education is too habituated to coming up short for students. they bought the upstarts that challenged them, tried making changes to run those bootcamps in the big education way, and, sadly, theyve closed the doors when they realized that scaling education is more challenging when student outcomes truly matter.\n",
      "the bootcamp model is still new and there will be plenty consolidation, competition, and changes in the future. this model is based on actually being adaptive, innovative, and sustainable. and theres always room for innovation.\n",
      "\n",
      "\n",
      "what weve learned at codeup...\n",
      "\n",
      "\n",
      "education is challenging to scale.\n",
      "prioritizing quality over growth pays off.\n",
      "\n",
      "what were doing at codeup...\n",
      "\n",
      "higher standards in our application process are leading to better student outcomes.\n",
      "our reputation and commitment to quality is opening new doors to previously uninterested/unreachable employers.\n",
      "in the beginning, the majority of codeup graduates went to work with startups and small businesses. were now seeing a larger amount of our graduates place at medium to large sized businesses.\n",
      "demand is growing and employers are learning that the results are in the graduates.\n",
      "codeups model is sustainable, inclusive, and works.\n",
      "\n",
      "call or contact us today to see how codeups commitment to quality and approach to being a career accelerator can make a profound difference in your life.\n",
      "\n",
      "\n"
     ]
    }
   ],
   "source": [
    "article = unicodedata.normalize('NFKD', article)\\\n",
    "    .encode('ascii', 'ignore')\\\n",
    "    .decode('utf-8', 'ignore')\n",
    "\n",
    "print(article)"
   ]
  },
  {
   "cell_type": "code",
   "execution_count": 14,
   "metadata": {},
   "outputs": [
    {
     "name": "stdout",
     "output_type": "stream",
     "text": [
      "competitor bootcamps are closing is the model in danger\n",
      " \n",
      "\n",
      "is the programming bootcamp model in danger\n",
      "in recent news devbootcamp and the iron yard announced that they are closing their doors this is big news devbootcamp was the first programming bootcamp model and the iron yard is a national player with 15 campuses across the us in both cases the companies cited an unsustainable business model does that mean the bootcamp model is dead\n",
      "\n",
      "tldr nope\n",
      "bootcamps exist because traditional education models have failed to provide students jobready skills for the 21st century students demand better employment options from their education employers demand skilled and job ready candidates big educations failure to meet those needs through traditional methods created the fertile ground for the new business model of the programming bootcamp\n",
      "education giant kaplan and apollo education group owner of university of phoenix bought their way into this new educational model when they purchased the iron yard and devbootcamp they purchased their competition with the intent to scale up the model unfortunately big education is too habituated to coming up short for students they bought the upstarts that challenged them tried making changes to run those bootcamps in the big education way and sadly theyve closed the doors when they realized that scaling education is more challenging when student outcomes truly matter\n",
      "the bootcamp model is still new and there will be plenty consolidation competition and changes in the future this model is based on actually being adaptive innovative and sustainable and theres always room for innovation\n",
      "\n",
      "\n",
      "what weve learned at codeup\n",
      "\n",
      "\n",
      "education is challenging to scale\n",
      "prioritizing quality over growth pays off\n",
      "\n",
      "what were doing at codeup\n",
      "\n",
      "higher standards in our application process are leading to better student outcomes\n",
      "our reputation and commitment to quality is opening new doors to previously uninterestedunreachable employers\n",
      "in the beginning the majority of codeup graduates went to work with startups and small businesses were now seeing a larger amount of our graduates place at medium to large sized businesses\n",
      "demand is growing and employers are learning that the results are in the graduates\n",
      "codeups model is sustainable inclusive and works\n",
      "\n",
      "call or contact us today to see how codeups commitment to quality and approach to being a career accelerator can make a profound difference in your life\n",
      "\n",
      "\n"
     ]
    }
   ],
   "source": [
    "# remove anything that is not a through z, a number, a single quote, or whitespace\n",
    "article = re.sub(r\"[^a-z0-9'\\s]\", '', article)\n",
    "print(article)"
   ]
  },
  {
   "cell_type": "code",
   "execution_count": 15,
   "metadata": {},
   "outputs": [
    {
     "name": "stdout",
     "output_type": "stream",
     "text": [
      "Competitor Bootcamps Are Closing. Is the Model in Danger ? \n",
      " \n",
      "\n",
      "Is the programming bootcamp model in danger ? \n",
      "In recent news , DevBootcamp and The Iron Yard announced that they are closing their doors. This is big news. DevBootcamp was the first programming bootcamp model and The Iron Yard is a national player with 15 campuses across the U.S. In both cases , the companies cited an unsustainable business model. Does that mean the boot-camp model is dead ? \n",
      "\n",
      "tl ; dr “Nope ! ” \n",
      "Bootcamps exist because traditional education models have failed to provide students job-ready skills for the 21st century. Students demand better employment options from their education. Employers demand skilled and job ready candidates. Big Education ’ s failure to meet those needs through traditional methods created the fertile ground for the new business model of the programming bootcamp.\n",
      "Education giant Kaplan and Apollo Education Group ( owner of University of Phoenix ) bought their way into this new educational model when they purchased The Iron Yard and DevBootcamp. They purchased their competition with the intent to scale up the model. Unfortunately , Big Education is too habituated to coming up short for students. They bought the upstarts that challenged them , tried making changes to run those bootcamps in the “Big Education ” way , and , sadly , they ’ ve closed the doors when they realized that scaling education is more challenging when student outcomes truly matter.\n",
      "The bootcamp model is still new and there will be plenty consolidation , competition , and changes in the future. This model is based on actually being adaptive , innovative , and sustainable. And there ’ s always room for innovation.\n",
      "\n",
      "\n",
      "What we ’ ve learned at Codeup … \n",
      "\n",
      "\n",
      "Education is challenging to scale.\n",
      "Prioritizing quality over growth pays off.\n",
      "\n",
      "What we ’ re doing at Codeup … \n",
      "\n",
      "Higher standards in our application process are leading to better student outcomes.\n",
      "Our reputation and commitment to quality is opening new doors to previously uninterested/unreachable employers.\n",
      "In the beginning , the majority of Codeup graduates went to work with startups and small businesses. We ’ re now seeing a larger amount of our graduates place at medium to large sized businesses.\n",
      "Demand is growing and employers are learning that the results are in the graduates.\n",
      "Codeup ’ s model is sustainable , inclusive , and works.\n",
      "\n",
      "Call or contact us today to see how Codeup ’ s commitment to quality and approach to being a career accelerator can make a profound difference in your life.\n"
     ]
    }
   ],
   "source": [
    "tokenizer = nltk.tokenize.ToktokTokenizer()\n",
    "\n",
    "print(tokenizer.tokenize(original, return_str=True))"
   ]
  },
  {
   "cell_type": "code",
   "execution_count": 17,
   "metadata": {},
   "outputs": [
    {
     "data": {
      "text/plain": [
       "('call', 'call', 'call')"
      ]
     },
     "execution_count": 17,
     "metadata": {},
     "output_type": "execute_result"
    }
   ],
   "source": [
    "# Create the nltk stemmer object, then use it\n",
    "ps = nltk.porter.PorterStemmer()\n",
    "\n",
    "ps.stem('call'), ps.stem('called'), ps.stem('calling')"
   ]
  },
  {
   "cell_type": "code",
   "execution_count": 18,
   "metadata": {},
   "outputs": [
    {
     "name": "stdout",
     "output_type": "stream",
     "text": [
      "competitor bootcamp are close is the model in danger is the program bootcamp model in danger in recent news devbootcamp and the iron yard announc that they are close their door thi is big news devbootcamp wa the first program bootcamp model and the iron yard is a nation player with 15 campus across the us in both case the compani cite an unsustain busi model doe that mean the bootcamp model is dead tldr nope bootcamp exist becaus tradit educ model have fail to provid student jobreadi skill for the 21st centuri student demand better employ option from their educ employ demand skill and job readi candid big educ failur to meet those need through tradit method creat the fertil ground for the new busi model of the program bootcamp educ giant kaplan and apollo educ group owner of univers of phoenix bought their way into thi new educ model when they purchas the iron yard and devbootcamp they purchas their competit with the intent to scale up the model unfortun big educ is too habitu to come up short for student they bought the upstart that challeng them tri make chang to run those bootcamp in the big educ way and sadli theyv close the door when they realiz that scale educ is more challeng when student outcom truli matter the bootcamp model is still new and there will be plenti consolid competit and chang in the futur thi model is base on actual be adapt innov and sustain and there alway room for innov what weve learn at codeup educ is challeng to scale priorit qualiti over growth pay off what were do at codeup higher standard in our applic process are lead to better student outcom our reput and commit to qualiti is open new door to previous uninterestedunreach employ in the begin the major of codeup graduat went to work with startup and small busi were now see a larger amount of our graduat place at medium to larg size busi demand is grow and employ are learn that the result are in the graduat codeup model is sustain inclus and work call or contact us today to see how codeup commit to qualiti and approach to be a career acceler can make a profound differ in your life\n"
     ]
    }
   ],
   "source": [
    "stems = [ps.stem(word) for word in article.split()]\n",
    "article_stemmed = ' '.join(stems)\n",
    "print(article_stemmed)"
   ]
  },
  {
   "cell_type": "code",
   "execution_count": 19,
   "metadata": {},
   "outputs": [
    {
     "ename": "LookupError",
     "evalue": "\n**********************************************************************\n  Resource \u001b[93mwordnet\u001b[0m not found.\n  Please use the NLTK Downloader to obtain the resource:\n\n  \u001b[31m>>> import nltk\n  >>> nltk.download('wordnet')\n  \u001b[0m\n  For more information see: https://www.nltk.org/data.html\n\n  Attempted to load \u001b[93mcorpora/wordnet\u001b[0m\n\n  Searched in:\n    - '/Users/luke/nltk_data'\n    - '/Users/luke/opt/anaconda3/nltk_data'\n    - '/Users/luke/opt/anaconda3/share/nltk_data'\n    - '/Users/luke/opt/anaconda3/lib/nltk_data'\n    - '/usr/share/nltk_data'\n    - '/usr/local/share/nltk_data'\n    - '/usr/lib/nltk_data'\n    - '/usr/local/lib/nltk_data'\n**********************************************************************\n",
     "output_type": "error",
     "traceback": [
      "\u001b[0;31m---------------------------------------------------------------------------\u001b[0m",
      "\u001b[0;31mLookupError\u001b[0m                               Traceback (most recent call last)",
      "\u001b[0;32m~/opt/anaconda3/lib/python3.7/site-packages/nltk/corpus/util.py\u001b[0m in \u001b[0;36m__load\u001b[0;34m(self)\u001b[0m\n\u001b[1;32m     82\u001b[0m                 \u001b[0;32mtry\u001b[0m\u001b[0;34m:\u001b[0m\u001b[0;34m\u001b[0m\u001b[0;34m\u001b[0m\u001b[0m\n\u001b[0;32m---> 83\u001b[0;31m                     \u001b[0mroot\u001b[0m \u001b[0;34m=\u001b[0m \u001b[0mnltk\u001b[0m\u001b[0;34m.\u001b[0m\u001b[0mdata\u001b[0m\u001b[0;34m.\u001b[0m\u001b[0mfind\u001b[0m\u001b[0;34m(\u001b[0m\u001b[0;34m\"{}/{}\"\u001b[0m\u001b[0;34m.\u001b[0m\u001b[0mformat\u001b[0m\u001b[0;34m(\u001b[0m\u001b[0mself\u001b[0m\u001b[0;34m.\u001b[0m\u001b[0msubdir\u001b[0m\u001b[0;34m,\u001b[0m \u001b[0mzip_name\u001b[0m\u001b[0;34m)\u001b[0m\u001b[0;34m)\u001b[0m\u001b[0;34m\u001b[0m\u001b[0;34m\u001b[0m\u001b[0m\n\u001b[0m\u001b[1;32m     84\u001b[0m                 \u001b[0;32mexcept\u001b[0m \u001b[0mLookupError\u001b[0m\u001b[0;34m:\u001b[0m\u001b[0;34m\u001b[0m\u001b[0;34m\u001b[0m\u001b[0m\n",
      "\u001b[0;32m~/opt/anaconda3/lib/python3.7/site-packages/nltk/data.py\u001b[0m in \u001b[0;36mfind\u001b[0;34m(resource_name, paths)\u001b[0m\n\u001b[1;32m    584\u001b[0m     \u001b[0mresource_not_found\u001b[0m \u001b[0;34m=\u001b[0m \u001b[0;34m\"\\n%s\\n%s\\n%s\\n\"\u001b[0m \u001b[0;34m%\u001b[0m \u001b[0;34m(\u001b[0m\u001b[0msep\u001b[0m\u001b[0;34m,\u001b[0m \u001b[0mmsg\u001b[0m\u001b[0;34m,\u001b[0m \u001b[0msep\u001b[0m\u001b[0;34m)\u001b[0m\u001b[0;34m\u001b[0m\u001b[0;34m\u001b[0m\u001b[0m\n\u001b[0;32m--> 585\u001b[0;31m     \u001b[0;32mraise\u001b[0m \u001b[0mLookupError\u001b[0m\u001b[0;34m(\u001b[0m\u001b[0mresource_not_found\u001b[0m\u001b[0;34m)\u001b[0m\u001b[0;34m\u001b[0m\u001b[0;34m\u001b[0m\u001b[0m\n\u001b[0m\u001b[1;32m    586\u001b[0m \u001b[0;34m\u001b[0m\u001b[0m\n",
      "\u001b[0;31mLookupError\u001b[0m: \n**********************************************************************\n  Resource \u001b[93mwordnet\u001b[0m not found.\n  Please use the NLTK Downloader to obtain the resource:\n\n  \u001b[31m>>> import nltk\n  >>> nltk.download('wordnet')\n  \u001b[0m\n  For more information see: https://www.nltk.org/data.html\n\n  Attempted to load \u001b[93mcorpora/wordnet.zip/wordnet/\u001b[0m\n\n  Searched in:\n    - '/Users/luke/nltk_data'\n    - '/Users/luke/opt/anaconda3/nltk_data'\n    - '/Users/luke/opt/anaconda3/share/nltk_data'\n    - '/Users/luke/opt/anaconda3/lib/nltk_data'\n    - '/usr/share/nltk_data'\n    - '/usr/local/share/nltk_data'\n    - '/usr/lib/nltk_data'\n    - '/usr/local/lib/nltk_data'\n**********************************************************************\n",
      "\nDuring handling of the above exception, another exception occurred:\n",
      "\u001b[0;31mLookupError\u001b[0m                               Traceback (most recent call last)",
      "\u001b[0;32m<ipython-input-19-d2f7e2b14137>\u001b[0m in \u001b[0;36m<module>\u001b[0;34m\u001b[0m\n\u001b[1;32m      2\u001b[0m \u001b[0;34m\u001b[0m\u001b[0m\n\u001b[1;32m      3\u001b[0m \u001b[0;32mfor\u001b[0m \u001b[0mword\u001b[0m \u001b[0;32min\u001b[0m \u001b[0;34m'study studies'\u001b[0m\u001b[0;34m.\u001b[0m\u001b[0msplit\u001b[0m\u001b[0;34m(\u001b[0m\u001b[0;34m)\u001b[0m\u001b[0;34m:\u001b[0m\u001b[0;34m\u001b[0m\u001b[0;34m\u001b[0m\u001b[0m\n\u001b[0;32m----> 4\u001b[0;31m     \u001b[0mprint\u001b[0m\u001b[0;34m(\u001b[0m\u001b[0;34m'stem:'\u001b[0m\u001b[0;34m,\u001b[0m \u001b[0mps\u001b[0m\u001b[0;34m.\u001b[0m\u001b[0mstem\u001b[0m\u001b[0;34m(\u001b[0m\u001b[0mword\u001b[0m\u001b[0;34m)\u001b[0m\u001b[0;34m,\u001b[0m \u001b[0;34m'-- lemma:'\u001b[0m\u001b[0;34m,\u001b[0m \u001b[0mwnl\u001b[0m\u001b[0;34m.\u001b[0m\u001b[0mlemmatize\u001b[0m\u001b[0;34m(\u001b[0m\u001b[0mword\u001b[0m\u001b[0;34m)\u001b[0m\u001b[0;34m)\u001b[0m\u001b[0;34m\u001b[0m\u001b[0;34m\u001b[0m\u001b[0m\n\u001b[0m",
      "\u001b[0;32m~/opt/anaconda3/lib/python3.7/site-packages/nltk/stem/wordnet.py\u001b[0m in \u001b[0;36mlemmatize\u001b[0;34m(self, word, pos)\u001b[0m\n\u001b[1;32m     36\u001b[0m \u001b[0;34m\u001b[0m\u001b[0m\n\u001b[1;32m     37\u001b[0m     \u001b[0;32mdef\u001b[0m \u001b[0mlemmatize\u001b[0m\u001b[0;34m(\u001b[0m\u001b[0mself\u001b[0m\u001b[0;34m,\u001b[0m \u001b[0mword\u001b[0m\u001b[0;34m,\u001b[0m \u001b[0mpos\u001b[0m\u001b[0;34m=\u001b[0m\u001b[0mNOUN\u001b[0m\u001b[0;34m)\u001b[0m\u001b[0;34m:\u001b[0m\u001b[0;34m\u001b[0m\u001b[0;34m\u001b[0m\u001b[0m\n\u001b[0;32m---> 38\u001b[0;31m         \u001b[0mlemmas\u001b[0m \u001b[0;34m=\u001b[0m \u001b[0mwordnet\u001b[0m\u001b[0;34m.\u001b[0m\u001b[0m_morphy\u001b[0m\u001b[0;34m(\u001b[0m\u001b[0mword\u001b[0m\u001b[0;34m,\u001b[0m \u001b[0mpos\u001b[0m\u001b[0;34m)\u001b[0m\u001b[0;34m\u001b[0m\u001b[0;34m\u001b[0m\u001b[0m\n\u001b[0m\u001b[1;32m     39\u001b[0m         \u001b[0;32mreturn\u001b[0m \u001b[0mmin\u001b[0m\u001b[0;34m(\u001b[0m\u001b[0mlemmas\u001b[0m\u001b[0;34m,\u001b[0m \u001b[0mkey\u001b[0m\u001b[0;34m=\u001b[0m\u001b[0mlen\u001b[0m\u001b[0;34m)\u001b[0m \u001b[0;32mif\u001b[0m \u001b[0mlemmas\u001b[0m \u001b[0;32melse\u001b[0m \u001b[0mword\u001b[0m\u001b[0;34m\u001b[0m\u001b[0;34m\u001b[0m\u001b[0m\n\u001b[1;32m     40\u001b[0m \u001b[0;34m\u001b[0m\u001b[0m\n",
      "\u001b[0;32m~/opt/anaconda3/lib/python3.7/site-packages/nltk/corpus/util.py\u001b[0m in \u001b[0;36m__getattr__\u001b[0;34m(self, attr)\u001b[0m\n\u001b[1;32m    118\u001b[0m             \u001b[0;32mraise\u001b[0m \u001b[0mAttributeError\u001b[0m\u001b[0;34m(\u001b[0m\u001b[0;34m\"LazyCorpusLoader object has no attribute '__bases__'\"\u001b[0m\u001b[0;34m)\u001b[0m\u001b[0;34m\u001b[0m\u001b[0;34m\u001b[0m\u001b[0m\n\u001b[1;32m    119\u001b[0m \u001b[0;34m\u001b[0m\u001b[0m\n\u001b[0;32m--> 120\u001b[0;31m         \u001b[0mself\u001b[0m\u001b[0;34m.\u001b[0m\u001b[0m__load\u001b[0m\u001b[0;34m(\u001b[0m\u001b[0;34m)\u001b[0m\u001b[0;34m\u001b[0m\u001b[0;34m\u001b[0m\u001b[0m\n\u001b[0m\u001b[1;32m    121\u001b[0m         \u001b[0;31m# This looks circular, but its not, since __load() changes our\u001b[0m\u001b[0;34m\u001b[0m\u001b[0;34m\u001b[0m\u001b[0;34m\u001b[0m\u001b[0m\n\u001b[1;32m    122\u001b[0m         \u001b[0;31m# __class__ to something new:\u001b[0m\u001b[0;34m\u001b[0m\u001b[0;34m\u001b[0m\u001b[0;34m\u001b[0m\u001b[0m\n",
      "\u001b[0;32m~/opt/anaconda3/lib/python3.7/site-packages/nltk/corpus/util.py\u001b[0m in \u001b[0;36m__load\u001b[0;34m(self)\u001b[0m\n\u001b[1;32m     83\u001b[0m                     \u001b[0mroot\u001b[0m \u001b[0;34m=\u001b[0m \u001b[0mnltk\u001b[0m\u001b[0;34m.\u001b[0m\u001b[0mdata\u001b[0m\u001b[0;34m.\u001b[0m\u001b[0mfind\u001b[0m\u001b[0;34m(\u001b[0m\u001b[0;34m\"{}/{}\"\u001b[0m\u001b[0;34m.\u001b[0m\u001b[0mformat\u001b[0m\u001b[0;34m(\u001b[0m\u001b[0mself\u001b[0m\u001b[0;34m.\u001b[0m\u001b[0msubdir\u001b[0m\u001b[0;34m,\u001b[0m \u001b[0mzip_name\u001b[0m\u001b[0;34m)\u001b[0m\u001b[0;34m)\u001b[0m\u001b[0;34m\u001b[0m\u001b[0;34m\u001b[0m\u001b[0m\n\u001b[1;32m     84\u001b[0m                 \u001b[0;32mexcept\u001b[0m \u001b[0mLookupError\u001b[0m\u001b[0;34m:\u001b[0m\u001b[0;34m\u001b[0m\u001b[0;34m\u001b[0m\u001b[0m\n\u001b[0;32m---> 85\u001b[0;31m                     \u001b[0;32mraise\u001b[0m \u001b[0me\u001b[0m\u001b[0;34m\u001b[0m\u001b[0;34m\u001b[0m\u001b[0m\n\u001b[0m\u001b[1;32m     86\u001b[0m \u001b[0;34m\u001b[0m\u001b[0m\n\u001b[1;32m     87\u001b[0m         \u001b[0;31m# Load the corpus.\u001b[0m\u001b[0;34m\u001b[0m\u001b[0;34m\u001b[0m\u001b[0;34m\u001b[0m\u001b[0m\n",
      "\u001b[0;32m~/opt/anaconda3/lib/python3.7/site-packages/nltk/corpus/util.py\u001b[0m in \u001b[0;36m__load\u001b[0;34m(self)\u001b[0m\n\u001b[1;32m     78\u001b[0m         \u001b[0;32melse\u001b[0m\u001b[0;34m:\u001b[0m\u001b[0;34m\u001b[0m\u001b[0;34m\u001b[0m\u001b[0m\n\u001b[1;32m     79\u001b[0m             \u001b[0;32mtry\u001b[0m\u001b[0;34m:\u001b[0m\u001b[0;34m\u001b[0m\u001b[0;34m\u001b[0m\u001b[0m\n\u001b[0;32m---> 80\u001b[0;31m                 \u001b[0mroot\u001b[0m \u001b[0;34m=\u001b[0m \u001b[0mnltk\u001b[0m\u001b[0;34m.\u001b[0m\u001b[0mdata\u001b[0m\u001b[0;34m.\u001b[0m\u001b[0mfind\u001b[0m\u001b[0;34m(\u001b[0m\u001b[0;34m\"{}/{}\"\u001b[0m\u001b[0;34m.\u001b[0m\u001b[0mformat\u001b[0m\u001b[0;34m(\u001b[0m\u001b[0mself\u001b[0m\u001b[0;34m.\u001b[0m\u001b[0msubdir\u001b[0m\u001b[0;34m,\u001b[0m \u001b[0mself\u001b[0m\u001b[0;34m.\u001b[0m\u001b[0m__name\u001b[0m\u001b[0;34m)\u001b[0m\u001b[0;34m)\u001b[0m\u001b[0;34m\u001b[0m\u001b[0;34m\u001b[0m\u001b[0m\n\u001b[0m\u001b[1;32m     81\u001b[0m             \u001b[0;32mexcept\u001b[0m \u001b[0mLookupError\u001b[0m \u001b[0;32mas\u001b[0m \u001b[0me\u001b[0m\u001b[0;34m:\u001b[0m\u001b[0;34m\u001b[0m\u001b[0;34m\u001b[0m\u001b[0m\n\u001b[1;32m     82\u001b[0m                 \u001b[0;32mtry\u001b[0m\u001b[0;34m:\u001b[0m\u001b[0;34m\u001b[0m\u001b[0;34m\u001b[0m\u001b[0m\n",
      "\u001b[0;32m~/opt/anaconda3/lib/python3.7/site-packages/nltk/data.py\u001b[0m in \u001b[0;36mfind\u001b[0;34m(resource_name, paths)\u001b[0m\n\u001b[1;32m    583\u001b[0m     \u001b[0msep\u001b[0m \u001b[0;34m=\u001b[0m \u001b[0;34m\"*\"\u001b[0m \u001b[0;34m*\u001b[0m \u001b[0;36m70\u001b[0m\u001b[0;34m\u001b[0m\u001b[0;34m\u001b[0m\u001b[0m\n\u001b[1;32m    584\u001b[0m     \u001b[0mresource_not_found\u001b[0m \u001b[0;34m=\u001b[0m \u001b[0;34m\"\\n%s\\n%s\\n%s\\n\"\u001b[0m \u001b[0;34m%\u001b[0m \u001b[0;34m(\u001b[0m\u001b[0msep\u001b[0m\u001b[0;34m,\u001b[0m \u001b[0mmsg\u001b[0m\u001b[0;34m,\u001b[0m \u001b[0msep\u001b[0m\u001b[0;34m)\u001b[0m\u001b[0;34m\u001b[0m\u001b[0;34m\u001b[0m\u001b[0m\n\u001b[0;32m--> 585\u001b[0;31m     \u001b[0;32mraise\u001b[0m \u001b[0mLookupError\u001b[0m\u001b[0;34m(\u001b[0m\u001b[0mresource_not_found\u001b[0m\u001b[0;34m)\u001b[0m\u001b[0;34m\u001b[0m\u001b[0;34m\u001b[0m\u001b[0m\n\u001b[0m\u001b[1;32m    586\u001b[0m \u001b[0;34m\u001b[0m\u001b[0m\n\u001b[1;32m    587\u001b[0m \u001b[0;34m\u001b[0m\u001b[0m\n",
      "\u001b[0;31mLookupError\u001b[0m: \n**********************************************************************\n  Resource \u001b[93mwordnet\u001b[0m not found.\n  Please use the NLTK Downloader to obtain the resource:\n\n  \u001b[31m>>> import nltk\n  >>> nltk.download('wordnet')\n  \u001b[0m\n  For more information see: https://www.nltk.org/data.html\n\n  Attempted to load \u001b[93mcorpora/wordnet\u001b[0m\n\n  Searched in:\n    - '/Users/luke/nltk_data'\n    - '/Users/luke/opt/anaconda3/nltk_data'\n    - '/Users/luke/opt/anaconda3/share/nltk_data'\n    - '/Users/luke/opt/anaconda3/lib/nltk_data'\n    - '/usr/share/nltk_data'\n    - '/usr/local/share/nltk_data'\n    - '/usr/lib/nltk_data'\n    - '/usr/local/lib/nltk_data'\n**********************************************************************\n"
     ]
    }
   ],
   "source": [
    "wnl = nltk.stem.WordNetLemmatizer()\n",
    "\n",
    "for word in 'study studies'.split():\n",
    "    print('stem:', ps.stem(word), '-- lemma:', wnl.lemmatize(word))"
   ]
  },
  {
   "cell_type": "markdown",
   "metadata": {},
   "source": [
    "# Exercises"
   ]
  },
  {
   "cell_type": "markdown",
   "metadata": {},
   "source": [
    "### 1. Define a function named basic_clean. It should take in a string and apply some basic text cleaning to it:\n",
    "\n",
    "- Lowercase everything\n",
    "- Normalize unicode characters\n",
    "- Replace anything that is not a letter, number, whitespace or a single quote."
   ]
  },
  {
   "cell_type": "code",
   "execution_count": 45,
   "metadata": {},
   "outputs": [],
   "source": [
    "url = 'https://codeup.com/codeups-data-science-career-accelerator-is-here/'\n",
    "original = acquire.get_article_text(url)"
   ]
  },
  {
   "cell_type": "code",
   "execution_count": 46,
   "metadata": {},
   "outputs": [
    {
     "data": {
      "text/plain": [
       "'Competitor Bootcamps Are Closing. Is the Model in Danger?\\n\\xa0\\n\\nIs the programming bootcamp model in danger?\\nIn recent news, DevBootcamp and The Iron Yard announced that they are closing their doors. This is big news. DevBootcamp was the first programming bootcamp model and The Iron Yard is a national player with 15 campuses across the U.S. In both cases, the companies cited an unsustainable business model. Does that mean the boot-camp model is dead?\\n\\ntl;dr “Nope!”\\nBootcamps exist because traditional education models have failed to provide students job-ready skills for the 21st century. Students demand better employment options from their education. Employers demand skilled and job ready candidates. Big Education’s failure to meet those needs through traditional methods created the fertile ground for the new business model of the programming bootcamp.\\nEducation giant Kaplan and Apollo Education Group (owner of University of Phoenix) bought their way into this new educational model when they purchased The Iron Yard and DevBootcamp. They purchased their competition with the intent to scale up the model. Unfortunately, Big Education is too habituated to coming up short for students. They bought the upstarts that challenged them, tried making changes to run those bootcamps in the “Big Education” way, and, sadly, they’ve closed the doors when they realized that scaling education is more challenging when student outcomes truly matter.\\nThe bootcamp model is still new and there will be plenty consolidation, competition, and changes in the future. This model is based on actually being adaptive, innovative, and sustainable. And there’s always room for innovation.\\n\\n\\nWhat we’ve learned at Codeup…\\n\\n\\nEducation is challenging to scale.\\nPrioritizing quality over growth pays off.\\n\\nWhat we’re doing at Codeup…\\n\\nHigher standards in our application process are leading to better student outcomes.\\nOur reputation and commitment to quality is opening new doors to previously uninterested/unreachable employers.\\nIn the beginning, the majority of Codeup graduates went to work with startups and small businesses. We’re now seeing a larger amount of our graduates place at medium to large sized businesses.\\nDemand is growing and employers are learning that the results are in the graduates.\\nCodeup’s model is sustainable, inclusive, and works.\\n\\nCall or contact us today to see how Codeup’s commitment to quality and approach to being a career accelerator can make a profound difference in your life.\\n\\n'"
      ]
     },
     "execution_count": 46,
     "metadata": {},
     "output_type": "execute_result"
    }
   ],
   "source": [
    "original"
   ]
  },
  {
   "cell_type": "code",
   "execution_count": 51,
   "metadata": {},
   "outputs": [],
   "source": [
    "def basic_clean(text):\n",
    "    \n",
    "    text = text.lower()\n",
    "    recode = unicodedata.normalize('NFKD', text).encode('ascii', 'ignore').decode('utf-8', 'ignore')\n",
    "    clean_text = re.sub(r\"[^a-z0-9'\\s]\", '', recode)\n",
    "    clean_text_final = re.sub(r\"\\n\", \"\", clean_text)\n",
    "    \n",
    "    return clean_text_final\n",
    "    "
   ]
  },
  {
   "cell_type": "code",
   "execution_count": 52,
   "metadata": {},
   "outputs": [
    {
     "data": {
      "text/plain": [
       "'competitor bootcamps are closing is the model in danger is the programming bootcamp model in dangerin recent news devbootcamp and the iron yard announced that they are closing their doors this is big news devbootcamp was the first programming bootcamp model and the iron yard is a national player with 15 campuses across the us in both cases the companies cited an unsustainable business model does that mean the bootcamp model is deadtldr nopebootcamps exist because traditional education models have failed to provide students jobready skills for the 21st century students demand better employment options from their education employers demand skilled and job ready candidates big educations failure to meet those needs through traditional methods created the fertile ground for the new business model of the programming bootcampeducation giant kaplan and apollo education group owner of university of phoenix bought their way into this new educational model when they purchased the iron yard and devbootcamp they purchased their competition with the intent to scale up the model unfortunately big education is too habituated to coming up short for students they bought the upstarts that challenged them tried making changes to run those bootcamps in the big education way and sadly theyve closed the doors when they realized that scaling education is more challenging when student outcomes truly matterthe bootcamp model is still new and there will be plenty consolidation competition and changes in the future this model is based on actually being adaptive innovative and sustainable and theres always room for innovationwhat weve learned at codeupeducation is challenging to scaleprioritizing quality over growth pays offwhat were doing at codeuphigher standards in our application process are leading to better student outcomesour reputation and commitment to quality is opening new doors to previously uninterestedunreachable employersin the beginning the majority of codeup graduates went to work with startups and small businesses were now seeing a larger amount of our graduates place at medium to large sized businessesdemand is growing and employers are learning that the results are in the graduatescodeups model is sustainable inclusive and workscall or contact us today to see how codeups commitment to quality and approach to being a career accelerator can make a profound difference in your life'"
      ]
     },
     "execution_count": 52,
     "metadata": {},
     "output_type": "execute_result"
    }
   ],
   "source": [
    "basic_string = basic_clean(original)\n",
    "basic_string"
   ]
  },
  {
   "cell_type": "markdown",
   "metadata": {},
   "source": [
    "### 2. Define a function named `tokenize`. It should take in a string and tokenize all the words in the string."
   ]
  },
  {
   "cell_type": "code",
   "execution_count": 53,
   "metadata": {},
   "outputs": [],
   "source": [
    "def tokenize(text):\n",
    "    \n",
    "    tokenizer = nltk.tokenize.ToktokTokenizer()\n",
    "\n",
    "    text = tokenizer.tokenize(text, return_str=True)\n",
    "    \n",
    "    return text"
   ]
  },
  {
   "cell_type": "code",
   "execution_count": 54,
   "metadata": {},
   "outputs": [
    {
     "data": {
      "text/plain": [
       "'competitor bootcamps are closing is the model in danger is the programming bootcamp model in dangerin recent news devbootcamp and the iron yard announced that they are closing their doors this is big news devbootcamp was the first programming bootcamp model and the iron yard is a national player with 15 campuses across the us in both cases the companies cited an unsustainable business model does that mean the bootcamp model is deadtldr nopebootcamps exist because traditional education models have failed to provide students jobready skills for the 21st century students demand better employment options from their education employers demand skilled and job ready candidates big educations failure to meet those needs through traditional methods created the fertile ground for the new business model of the programming bootcampeducation giant kaplan and apollo education group owner of university of phoenix bought their way into this new educational model when they purchased the iron yard and devbootcamp they purchased their competition with the intent to scale up the model unfortunately big education is too habituated to coming up short for students they bought the upstarts that challenged them tried making changes to run those bootcamps in the big education way and sadly theyve closed the doors when they realized that scaling education is more challenging when student outcomes truly matterthe bootcamp model is still new and there will be plenty consolidation competition and changes in the future this model is based on actually being adaptive innovative and sustainable and theres always room for innovationwhat weve learned at codeupeducation is challenging to scaleprioritizing quality over growth pays offwhat were doing at codeuphigher standards in our application process are leading to better student outcomesour reputation and commitment to quality is opening new doors to previously uninterestedunreachable employersin the beginning the majority of codeup graduates went to work with startups and small businesses were now seeing a larger amount of our graduates place at medium to large sized businessesdemand is growing and employers are learning that the results are in the graduatescodeups model is sustainable inclusive and workscall or contact us today to see how codeups commitment to quality and approach to being a career accelerator can make a profound difference in your life'"
      ]
     },
     "execution_count": 54,
     "metadata": {},
     "output_type": "execute_result"
    }
   ],
   "source": [
    "tokenize(basic_string)"
   ]
  },
  {
   "cell_type": "markdown",
   "metadata": {},
   "source": [
    "### 3. Define a function named stem. It should accept some text and return the text after applying stemming to all the words."
   ]
  },
  {
   "cell_type": "code",
   "execution_count": 55,
   "metadata": {},
   "outputs": [],
   "source": [
    "def stem(text):\n",
    "    \n",
    "    ps = nltk.porter.PorterStemmer()\n",
    "    stems = [ps.stem(word) for word in text.split()]\n",
    "    text_stemmed = ' '.join(stems)\n",
    "    \n",
    "    return text_stemmed"
   ]
  },
  {
   "cell_type": "code",
   "execution_count": 56,
   "metadata": {},
   "outputs": [
    {
     "data": {
      "text/plain": [
       "'competitor bootcamp are close is the model in danger is the program bootcamp model in dangerin recent news devbootcamp and the iron yard announc that they are close their door thi is big news devbootcamp wa the first program bootcamp model and the iron yard is a nation player with 15 campus across the us in both case the compani cite an unsustain busi model doe that mean the bootcamp model is deadtldr nopebootcamp exist becaus tradit educ model have fail to provid student jobreadi skill for the 21st centuri student demand better employ option from their educ employ demand skill and job readi candid big educ failur to meet those need through tradit method creat the fertil ground for the new busi model of the program bootcampeduc giant kaplan and apollo educ group owner of univers of phoenix bought their way into thi new educ model when they purchas the iron yard and devbootcamp they purchas their competit with the intent to scale up the model unfortun big educ is too habitu to come up short for student they bought the upstart that challeng them tri make chang to run those bootcamp in the big educ way and sadli theyv close the door when they realiz that scale educ is more challeng when student outcom truli matterth bootcamp model is still new and there will be plenti consolid competit and chang in the futur thi model is base on actual be adapt innov and sustain and there alway room for innovationwhat weve learn at codeupeduc is challeng to scalepriorit qualiti over growth pay offwhat were do at codeuphigh standard in our applic process are lead to better student outcomesour reput and commit to qualiti is open new door to previous uninterestedunreach employersin the begin the major of codeup graduat went to work with startup and small busi were now see a larger amount of our graduat place at medium to larg size businessesdemand is grow and employ are learn that the result are in the graduatescodeup model is sustain inclus and workscal or contact us today to see how codeup commit to qualiti and approach to be a career acceler can make a profound differ in your life'"
      ]
     },
     "execution_count": 56,
     "metadata": {},
     "output_type": "execute_result"
    }
   ],
   "source": [
    "stem(basic_string)"
   ]
  },
  {
   "cell_type": "markdown",
   "metadata": {},
   "source": [
    "### 4. Define a function named lemmatize. It should accept some text and return the text after applying lemmatization to each word."
   ]
  },
  {
   "cell_type": "code",
   "execution_count": 57,
   "metadata": {},
   "outputs": [],
   "source": [
    "def lemmatize(string):\n",
    "    # Defining the lemmatizer:\n",
    "    wnl = nltk.stem.WordNetLemmatizer()\n",
    "    \n",
    "    lemmas_text = [wnl.lemmatize(word) for word in string.split()]\n",
    "    \n",
    "    string_final = ' '.join(lemmas_text)\n",
    "    return string_final"
   ]
  },
  {
   "cell_type": "code",
   "execution_count": 59,
   "metadata": {},
   "outputs": [
    {
     "name": "stderr",
     "output_type": "stream",
     "text": [
      "[nltk_data] Downloading package wordnet to /Users/luke/nltk_data...\n",
      "[nltk_data]   Unzipping corpora/wordnet.zip.\n"
     ]
    },
    {
     "data": {
      "text/plain": [
       "True"
      ]
     },
     "execution_count": 59,
     "metadata": {},
     "output_type": "execute_result"
    }
   ],
   "source": [
    "nltk.download('wordnet')"
   ]
  },
  {
   "cell_type": "code",
   "execution_count": 63,
   "metadata": {},
   "outputs": [],
   "source": [
    "lem_words = lemmatize(basic_string)"
   ]
  },
  {
   "cell_type": "markdown",
   "metadata": {},
   "source": [
    "### 5. Define a function named remove_stopwords. It should accept some text and return the text after removing all the stopwords."
   ]
  },
  {
   "cell_type": "code",
   "execution_count": 62,
   "metadata": {},
   "outputs": [
    {
     "data": {
      "text/plain": [
       "['i', 'me', 'my', 'myself', 'we', 'our', 'ours', 'ourselves', 'you', \"you're\"]"
      ]
     },
     "execution_count": 62,
     "metadata": {},
     "output_type": "execute_result"
    }
   ],
   "source": [
    "stopword_list = stopwords.words('english')\n",
    "stopword_list[:10]\n"
   ]
  },
  {
   "cell_type": "code",
   "execution_count": 65,
   "metadata": {},
   "outputs": [
    {
     "data": {
      "text/plain": [
       "['competitor',\n",
       " 'bootcamps',\n",
       " 'are',\n",
       " 'closing',\n",
       " 'is',\n",
       " 'the',\n",
       " 'model',\n",
       " 'in',\n",
       " 'danger',\n",
       " 'is']"
      ]
     },
     "execution_count": 65,
     "metadata": {},
     "output_type": "execute_result"
    }
   ],
   "source": [
    "words = basic_string.split()\n",
    "words[:10]"
   ]
  },
  {
   "cell_type": "code",
   "execution_count": 66,
   "metadata": {},
   "outputs": [
    {
     "data": {
      "text/plain": [
       "['competitor',\n",
       " 'bootcamps',\n",
       " 'closing',\n",
       " 'model',\n",
       " 'danger',\n",
       " 'programming',\n",
       " 'bootcamp',\n",
       " 'model',\n",
       " 'dangerin',\n",
       " 'recent']"
      ]
     },
     "execution_count": 66,
     "metadata": {},
     "output_type": "execute_result"
    }
   ],
   "source": [
    "filtered_words = [word for word in words if word not in stopword_list]\n",
    "filtered_words[:10]"
   ]
  },
  {
   "cell_type": "code",
   "execution_count": null,
   "metadata": {},
   "outputs": [],
   "source": [
    "# adding extra words:\n"
   ]
  },
  {
   "cell_type": "code",
   "execution_count": null,
   "metadata": {},
   "outputs": [],
   "source": []
  },
  {
   "cell_type": "code",
   "execution_count": null,
   "metadata": {},
   "outputs": [],
   "source": []
  },
  {
   "cell_type": "code",
   "execution_count": 68,
   "metadata": {},
   "outputs": [],
   "source": [
    "def remove_stopwords(string, extra_words = [], exclude_words = []):\n",
    "    \n",
    "    # Stopwords list:\n",
    "    stopword_list = stopwords.words('english')\n",
    "    \n",
    "    # Remove any excluded words:\n",
    "    stopword_list = set(stopword_list) - set(exclude_words)\n",
    "    \n",
    "    stopword_list = stopword_list.union(set(extra_words))\n",
    "    \n",
    "    words = string.split()\n",
    "    \n",
    "    filtered_words = [word for word in words if word not in stopword_list]\n",
    "    \n",
    "    no_stopwords = ' '.join(filtered_words)\n",
    "    \n",
    "    return no_stopwords"
   ]
  },
  {
   "cell_type": "code",
   "execution_count": null,
   "metadata": {},
   "outputs": [],
   "source": []
  },
  {
   "cell_type": "code",
   "execution_count": 69,
   "metadata": {},
   "outputs": [],
   "source": [
    "# Full prep function (thanks to Faith for help):\n",
    "\n",
    "def prep_article_data(df, column, extra_words=[], exclude_words=[]):\n",
    "\n",
    "    df['clean'] = df[column].apply(basic_clean)\\\n",
    "                            .apply(tokenize)\\\n",
    "                            .apply(remove_stopwords, \n",
    "                                   extra_words=extra_words, \n",
    "                                   exclude_words=exclude_words)\\\n",
    "                            .apply(lemmatize)\n",
    "    \n",
    "    df['stemmed'] = df[column].apply(basic_clean).apply(stem)\n",
    "    \n",
    "    df['lemmatized'] = df[column].apply(basic_clean).apply(lemmatize)\n",
    "    \n",
    "    return df[['title', column, 'stemmed', 'lemmatized', 'clean']]"
   ]
  },
  {
   "cell_type": "code",
   "execution_count": null,
   "metadata": {},
   "outputs": [],
   "source": []
  },
  {
   "cell_type": "code",
   "execution_count": null,
   "metadata": {},
   "outputs": [],
   "source": []
  },
  {
   "cell_type": "code",
   "execution_count": null,
   "metadata": {},
   "outputs": [],
   "source": []
  },
  {
   "cell_type": "markdown",
   "metadata": {},
   "source": [
    "### 9. Ask yourself:\n",
    "\n",
    "- If your corpus is 493KB, would you prefer to use stemmed or lemmatized text?\n",
    "- If your corpus is 25MB, would you prefer to use stemmed or lemmatized text?\n",
    "- If your corpus is 200TB of text and you're charged by the megabyte for your hosted computational resources, would you prefer to use stemmed or lemmatized text?"
   ]
  },
  {
   "cell_type": "markdown",
   "metadata": {},
   "source": [
    "- With a corpus of 493k, lemmatize wouldn't take much processing power, thus I would use lemmatize.\n",
    "- With a corpus of 25MB, lemmatize still wouldn't take much processing power, thus I would still use lemmatize.\n",
    "- With a corpus of 200TB, with fees associated with computational resources, I would want to be as computationally efficient as possible, thus I'd use stemmed text."
   ]
  },
  {
   "cell_type": "code",
   "execution_count": null,
   "metadata": {},
   "outputs": [],
   "source": []
  }
 ],
 "metadata": {
  "kernelspec": {
   "display_name": "Python 3",
   "language": "python",
   "name": "python3"
  },
  "language_info": {
   "codemirror_mode": {
    "name": "ipython",
    "version": 3
   },
   "file_extension": ".py",
   "mimetype": "text/x-python",
   "name": "python",
   "nbconvert_exporter": "python",
   "pygments_lexer": "ipython3",
   "version": "3.7.9"
  }
 },
 "nbformat": 4,
 "nbformat_minor": 4
}
