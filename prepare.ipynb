{
 "cells": [
  {
   "cell_type": "code",
   "execution_count": 1,
   "metadata": {},
   "outputs": [
    {
     "name": "stdout",
     "output_type": "stream",
     "text": [
      "All acquire functions loaded properly.\n"
     ]
    }
   ],
   "source": [
    "from requests import get\n",
    "from bs4 import BeautifulSoup\n",
    "import pandas as pd\n",
    "import numpy as np\n",
    "import matplotlib.pyplot as plt\n",
    "import os\n",
    "\n",
    "import unicodedata\n",
    "import re\n",
    "import json\n",
    "\n",
    "import nltk\n",
    "from nltk.tokenize.toktok import ToktokTokenizer\n",
    "from nltk.corpus import stopwords\n",
    "\n",
    "import acquire"
   ]
  },
  {
   "cell_type": "code",
   "execution_count": 2,
   "metadata": {},
   "outputs": [],
   "source": [
    "source_urls = ['https://inshorts.com/en/read/technology',\n",
    "             'https://inshorts.com/en/read/sports',\n",
    "             'https://inshorts.com/en/read/business',\n",
    "             'https://inshorts.com/en/read/entertainment']"
   ]
  },
  {
   "cell_type": "code",
   "execution_count": 3,
   "metadata": {},
   "outputs": [],
   "source": [
    "original_df = acquire.build_dataset(source_urls)"
   ]
  },
  {
   "cell_type": "code",
   "execution_count": 4,
   "metadata": {},
   "outputs": [
    {
     "data": {
      "text/html": [
       "<div>\n",
       "<style scoped>\n",
       "    .dataframe tbody tr th:only-of-type {\n",
       "        vertical-align: middle;\n",
       "    }\n",
       "\n",
       "    .dataframe tbody tr th {\n",
       "        vertical-align: top;\n",
       "    }\n",
       "\n",
       "    .dataframe thead th {\n",
       "        text-align: right;\n",
       "    }\n",
       "</style>\n",
       "<table border=\"1\" class=\"dataframe\">\n",
       "  <thead>\n",
       "    <tr style=\"text-align: right;\">\n",
       "      <th></th>\n",
       "      <th>title</th>\n",
       "      <th>content</th>\n",
       "      <th>category</th>\n",
       "    </tr>\n",
       "  </thead>\n",
       "  <tbody>\n",
       "    <tr>\n",
       "      <th>0</th>\n",
       "      <td>Musk gets $15bn richer in 2 hours, becomes wor...</td>\n",
       "      <td>Billionaire Elon Musk added $15 billion to his...</td>\n",
       "      <td>technology</td>\n",
       "    </tr>\n",
       "    <tr>\n",
       "      <th>1</th>\n",
       "      <td>Huawei to sell smartphone brand Honor to 'ensu...</td>\n",
       "      <td>Huawei on Tuesday said it is selling its budge...</td>\n",
       "      <td>technology</td>\n",
       "    </tr>\n",
       "    <tr>\n",
       "      <th>2</th>\n",
       "      <td>SpaceX's Crew Dragon docks with the Internatio...</td>\n",
       "      <td>SpaceX's Crew Dragon capsule carrying four ast...</td>\n",
       "      <td>technology</td>\n",
       "    </tr>\n",
       "    <tr>\n",
       "      <th>3</th>\n",
       "      <td>Don't want to regulate, it's their responsibil...</td>\n",
       "      <td>Union Minister Prakash Javadekar discussed the...</td>\n",
       "      <td>technology</td>\n",
       "    </tr>\n",
       "    <tr>\n",
       "      <th>4</th>\n",
       "      <td>Apple tells Mac users its anti-malware feature...</td>\n",
       "      <td>Apple has updated a support documentation page...</td>\n",
       "      <td>technology</td>\n",
       "    </tr>\n",
       "    <tr>\n",
       "      <th>...</th>\n",
       "      <td>...</td>\n",
       "      <td>...</td>\n",
       "      <td>...</td>\n",
       "    </tr>\n",
       "    <tr>\n",
       "      <th>94</th>\n",
       "      <td>Embassy of India in France pays tribute to Sou...</td>\n",
       "      <td>Embassy of India in France paid tribute to act...</td>\n",
       "      <td>entertainment</td>\n",
       "    </tr>\n",
       "    <tr>\n",
       "      <th>95</th>\n",
       "      <td>I'm a romantic at heart, that influences my so...</td>\n",
       "      <td>During a recent interview, singer Amaal Mallik...</td>\n",
       "      <td>entertainment</td>\n",
       "    </tr>\n",
       "    <tr>\n",
       "      <th>96</th>\n",
       "      <td>Heroes can be larger than life, but emotions h...</td>\n",
       "      <td>Actor Suriya Sivakumar said he believes that I...</td>\n",
       "      <td>entertainment</td>\n",
       "    </tr>\n",
       "    <tr>\n",
       "      <th>97</th>\n",
       "      <td>I'm grateful for the honour: Sood on being nam...</td>\n",
       "      <td>Actor Sonu Sood, who has been appointed as the...</td>\n",
       "      <td>entertainment</td>\n",
       "    </tr>\n",
       "    <tr>\n",
       "      <th>98</th>\n",
       "      <td>Suriya is a humble megastar: Paresh on his 'So...</td>\n",
       "      <td>Paresh Rawal spoke about his experience of wor...</td>\n",
       "      <td>entertainment</td>\n",
       "    </tr>\n",
       "  </tbody>\n",
       "</table>\n",
       "<p>99 rows × 3 columns</p>\n",
       "</div>"
      ],
      "text/plain": [
       "                                                title  \\\n",
       "0   Musk gets $15bn richer in 2 hours, becomes wor...   \n",
       "1   Huawei to sell smartphone brand Honor to 'ensu...   \n",
       "2   SpaceX's Crew Dragon docks with the Internatio...   \n",
       "3   Don't want to regulate, it's their responsibil...   \n",
       "4   Apple tells Mac users its anti-malware feature...   \n",
       "..                                                ...   \n",
       "94  Embassy of India in France pays tribute to Sou...   \n",
       "95  I'm a romantic at heart, that influences my so...   \n",
       "96  Heroes can be larger than life, but emotions h...   \n",
       "97  I'm grateful for the honour: Sood on being nam...   \n",
       "98  Suriya is a humble megastar: Paresh on his 'So...   \n",
       "\n",
       "                                              content       category  \n",
       "0   Billionaire Elon Musk added $15 billion to his...     technology  \n",
       "1   Huawei on Tuesday said it is selling its budge...     technology  \n",
       "2   SpaceX's Crew Dragon capsule carrying four ast...     technology  \n",
       "3   Union Minister Prakash Javadekar discussed the...     technology  \n",
       "4   Apple has updated a support documentation page...     technology  \n",
       "..                                                ...            ...  \n",
       "94  Embassy of India in France paid tribute to act...  entertainment  \n",
       "95  During a recent interview, singer Amaal Mallik...  entertainment  \n",
       "96  Actor Suriya Sivakumar said he believes that I...  entertainment  \n",
       "97  Actor Sonu Sood, who has been appointed as the...  entertainment  \n",
       "98  Paresh Rawal spoke about his experience of wor...  entertainment  \n",
       "\n",
       "[99 rows x 3 columns]"
      ]
     },
     "execution_count": 4,
     "metadata": {},
     "output_type": "execute_result"
    }
   ],
   "source": [
    "original_df"
   ]
  },
  {
   "cell_type": "code",
   "execution_count": 5,
   "metadata": {},
   "outputs": [],
   "source": [
    "url = 'https://codeup.com/codeups-data-science-career-accelerator-is-here/'\n",
    "original = acquire.get_article_text(url)"
   ]
  },
  {
   "cell_type": "code",
   "execution_count": 6,
   "metadata": {},
   "outputs": [
    {
     "data": {
      "text/plain": [
       "'Competitor Bootcamps Are Closing. Is the Model in Danger?\\n\\xa0\\n\\nIs the programming bootcamp model in danger?\\nIn recent news, DevBootcamp and The Iron Yard announced that they are closing their doors. This is big news. DevBootcamp was the first programming bootcamp model and The Iron Yard is a national player with 15 campuses across the U.S. In both cases, the companies cited an unsustainable business model. Does that mean the boot-camp model is dead?\\n\\ntl;dr “Nope!”\\nBootcamps exist because traditional education models have failed to provide students job-ready skills for the 21st century. Students demand better employment options from their education. Employers demand skilled and job ready candidates. Big Education’s failure to meet those needs through traditional methods created the fertile ground for the new business model of the programming bootcamp.\\nEducation giant Kaplan and Apollo Education Group (owner of University of Phoenix) bought their way into this new educational model when they purchased The Iron Yard and DevBootcamp. They purchased their competition with the intent to scale up the model. Unfortunately, Big Education is too habituated to coming up short for students. They bought the upstarts that challenged them, tried making changes to run those bootcamps in the “Big Education” way, and, sadly, they’ve closed the doors when they realized that scaling education is more challenging when student outcomes truly matter.\\nThe bootcamp model is still new and there will be plenty consolidation, competition, and changes in the future. This model is based on actually being adaptive, innovative, and sustainable. And there’s always room for innovation.\\n\\n\\nWhat we’ve learned at Codeup…\\n\\n\\nEducation is challenging to scale.\\nPrioritizing quality over growth pays off.\\n\\nWhat we’re doing at Codeup…\\n\\nHigher standards in our application process are leading to better student outcomes.\\nOur reputation and commitment to quality is opening new doors to previously uninterested/unreachable employers.\\nIn the beginning, the majority of Codeup graduates went to work with startups and small businesses. We’re now seeing a larger amount of our graduates place at medium to large sized businesses.\\nDemand is growing and employers are learning that the results are in the graduates.\\nCodeup’s model is sustainable, inclusive, and works.\\n\\nCall or contact us today to see how Codeup’s commitment to quality and approach to being a career accelerator can make a profound difference in your life.\\n\\n'"
      ]
     },
     "execution_count": 6,
     "metadata": {},
     "output_type": "execute_result"
    }
   ],
   "source": [
    "original"
   ]
  },
  {
   "cell_type": "code",
   "execution_count": null,
   "metadata": {},
   "outputs": [],
   "source": [
    "article = original.lower()\n",
    "print(article)"
   ]
  },
  {
   "cell_type": "code",
   "execution_count": null,
   "metadata": {},
   "outputs": [],
   "source": [
    "article = unicodedata.normalize('NFKD', article)\\\n",
    "    .encode('ascii', 'ignore')\\\n",
    "    .decode('utf-8', 'ignore')\n",
    "\n",
    "print(article)"
   ]
  },
  {
   "cell_type": "code",
   "execution_count": null,
   "metadata": {},
   "outputs": [],
   "source": [
    "# remove anything that is not a through z, a number, a single quote, or whitespace\n",
    "article = re.sub(r\"[^a-z0-9'\\s]\", '', article)\n",
    "print(article)"
   ]
  },
  {
   "cell_type": "code",
   "execution_count": null,
   "metadata": {},
   "outputs": [],
   "source": [
    "tokenizer = nltk.tokenize.ToktokTokenizer()\n",
    "\n",
    "print(tokenizer.tokenize(original, return_str=True))"
   ]
  },
  {
   "cell_type": "code",
   "execution_count": null,
   "metadata": {},
   "outputs": [],
   "source": [
    "# Create the nltk stemmer object, then use it\n",
    "ps = nltk.porter.PorterStemmer()\n",
    "\n",
    "ps.stem('call'), ps.stem('called'), ps.stem('calling')"
   ]
  },
  {
   "cell_type": "code",
   "execution_count": null,
   "metadata": {},
   "outputs": [],
   "source": [
    "stems = [ps.stem(word) for word in article.split()]\n",
    "article_stemmed = ' '.join(stems)\n",
    "print(article_stemmed)"
   ]
  },
  {
   "cell_type": "code",
   "execution_count": null,
   "metadata": {},
   "outputs": [],
   "source": [
    "wnl = nltk.stem.WordNetLemmatizer()\n",
    "\n",
    "for word in 'study studies'.split():\n",
    "    print('stem:', ps.stem(word), '-- lemma:', wnl.lemmatize(word))"
   ]
  },
  {
   "cell_type": "markdown",
   "metadata": {},
   "source": [
    "# Exercises"
   ]
  },
  {
   "cell_type": "markdown",
   "metadata": {},
   "source": [
    "### 1. Define a function named basic_clean. It should take in a string and apply some basic text cleaning to it:\n",
    "\n",
    "- Lowercase everything\n",
    "- Normalize unicode characters\n",
    "- Replace anything that is not a letter, number, whitespace or a single quote."
   ]
  },
  {
   "cell_type": "code",
   "execution_count": 7,
   "metadata": {},
   "outputs": [],
   "source": [
    "url = 'https://codeup.com/codeups-data-science-career-accelerator-is-here/'\n",
    "original = acquire.get_article_text(url)"
   ]
  },
  {
   "cell_type": "code",
   "execution_count": 8,
   "metadata": {},
   "outputs": [
    {
     "data": {
      "text/plain": [
       "'Competitor Bootcamps Are Closing. Is the Model in Danger?\\n\\xa0\\n\\nIs the programming bootcamp model in danger?\\nIn recent news, DevBootcamp and The Iron Yard announced that they are closing their doors. This is big news. DevBootcamp was the first programming bootcamp model and The Iron Yard is a national player with 15 campuses across the U.S. In both cases, the companies cited an unsustainable business model. Does that mean the boot-camp model is dead?\\n\\ntl;dr “Nope!”\\nBootcamps exist because traditional education models have failed to provide students job-ready skills for the 21st century. Students demand better employment options from their education. Employers demand skilled and job ready candidates. Big Education’s failure to meet those needs through traditional methods created the fertile ground for the new business model of the programming bootcamp.\\nEducation giant Kaplan and Apollo Education Group (owner of University of Phoenix) bought their way into this new educational model when they purchased The Iron Yard and DevBootcamp. They purchased their competition with the intent to scale up the model. Unfortunately, Big Education is too habituated to coming up short for students. They bought the upstarts that challenged them, tried making changes to run those bootcamps in the “Big Education” way, and, sadly, they’ve closed the doors when they realized that scaling education is more challenging when student outcomes truly matter.\\nThe bootcamp model is still new and there will be plenty consolidation, competition, and changes in the future. This model is based on actually being adaptive, innovative, and sustainable. And there’s always room for innovation.\\n\\n\\nWhat we’ve learned at Codeup…\\n\\n\\nEducation is challenging to scale.\\nPrioritizing quality over growth pays off.\\n\\nWhat we’re doing at Codeup…\\n\\nHigher standards in our application process are leading to better student outcomes.\\nOur reputation and commitment to quality is opening new doors to previously uninterested/unreachable employers.\\nIn the beginning, the majority of Codeup graduates went to work with startups and small businesses. We’re now seeing a larger amount of our graduates place at medium to large sized businesses.\\nDemand is growing and employers are learning that the results are in the graduates.\\nCodeup’s model is sustainable, inclusive, and works.\\n\\nCall or contact us today to see how Codeup’s commitment to quality and approach to being a career accelerator can make a profound difference in your life.\\n\\n'"
      ]
     },
     "execution_count": 8,
     "metadata": {},
     "output_type": "execute_result"
    }
   ],
   "source": [
    "original"
   ]
  },
  {
   "cell_type": "code",
   "execution_count": 9,
   "metadata": {},
   "outputs": [],
   "source": [
    "def basic_clean(text):\n",
    "    \n",
    "    text = text.lower()\n",
    "    recode = unicodedata.normalize('NFKD', text).encode('ascii', 'ignore').decode('utf-8', 'ignore')\n",
    "    clean_text = re.sub(r\"[^a-z0-9'\\s]\", '', recode)\n",
    "    clean_text_final = re.sub(r\"\\n\", \"\", clean_text)\n",
    "    \n",
    "    return clean_text_final\n",
    "    "
   ]
  },
  {
   "cell_type": "code",
   "execution_count": 10,
   "metadata": {},
   "outputs": [
    {
     "data": {
      "text/plain": [
       "'competitor bootcamps are closing is the model in danger is the programming bootcamp model in dangerin recent news devbootcamp and the iron yard announced that they are closing their doors this is big news devbootcamp was the first programming bootcamp model and the iron yard is a national player with 15 campuses across the us in both cases the companies cited an unsustainable business model does that mean the bootcamp model is deadtldr nopebootcamps exist because traditional education models have failed to provide students jobready skills for the 21st century students demand better employment options from their education employers demand skilled and job ready candidates big educations failure to meet those needs through traditional methods created the fertile ground for the new business model of the programming bootcampeducation giant kaplan and apollo education group owner of university of phoenix bought their way into this new educational model when they purchased the iron yard and devbootcamp they purchased their competition with the intent to scale up the model unfortunately big education is too habituated to coming up short for students they bought the upstarts that challenged them tried making changes to run those bootcamps in the big education way and sadly theyve closed the doors when they realized that scaling education is more challenging when student outcomes truly matterthe bootcamp model is still new and there will be plenty consolidation competition and changes in the future this model is based on actually being adaptive innovative and sustainable and theres always room for innovationwhat weve learned at codeupeducation is challenging to scaleprioritizing quality over growth pays offwhat were doing at codeuphigher standards in our application process are leading to better student outcomesour reputation and commitment to quality is opening new doors to previously uninterestedunreachable employersin the beginning the majority of codeup graduates went to work with startups and small businesses were now seeing a larger amount of our graduates place at medium to large sized businessesdemand is growing and employers are learning that the results are in the graduatescodeups model is sustainable inclusive and workscall or contact us today to see how codeups commitment to quality and approach to being a career accelerator can make a profound difference in your life'"
      ]
     },
     "execution_count": 10,
     "metadata": {},
     "output_type": "execute_result"
    }
   ],
   "source": [
    "basic_string = basic_clean(original)\n",
    "basic_string"
   ]
  },
  {
   "cell_type": "markdown",
   "metadata": {},
   "source": [
    "### 2. Define a function named `tokenize`. It should take in a string and tokenize all the words in the string."
   ]
  },
  {
   "cell_type": "code",
   "execution_count": 11,
   "metadata": {},
   "outputs": [],
   "source": [
    "def tokenize(text):\n",
    "    \n",
    "    tokenizer = nltk.tokenize.ToktokTokenizer()\n",
    "\n",
    "    text = tokenizer.tokenize(text, return_str=True)\n",
    "    \n",
    "    return text"
   ]
  },
  {
   "cell_type": "code",
   "execution_count": 12,
   "metadata": {},
   "outputs": [
    {
     "data": {
      "text/plain": [
       "'competitor bootcamps are closing is the model in danger is the programming bootcamp model in dangerin recent news devbootcamp and the iron yard announced that they are closing their doors this is big news devbootcamp was the first programming bootcamp model and the iron yard is a national player with 15 campuses across the us in both cases the companies cited an unsustainable business model does that mean the bootcamp model is deadtldr nopebootcamps exist because traditional education models have failed to provide students jobready skills for the 21st century students demand better employment options from their education employers demand skilled and job ready candidates big educations failure to meet those needs through traditional methods created the fertile ground for the new business model of the programming bootcampeducation giant kaplan and apollo education group owner of university of phoenix bought their way into this new educational model when they purchased the iron yard and devbootcamp they purchased their competition with the intent to scale up the model unfortunately big education is too habituated to coming up short for students they bought the upstarts that challenged them tried making changes to run those bootcamps in the big education way and sadly theyve closed the doors when they realized that scaling education is more challenging when student outcomes truly matterthe bootcamp model is still new and there will be plenty consolidation competition and changes in the future this model is based on actually being adaptive innovative and sustainable and theres always room for innovationwhat weve learned at codeupeducation is challenging to scaleprioritizing quality over growth pays offwhat were doing at codeuphigher standards in our application process are leading to better student outcomesour reputation and commitment to quality is opening new doors to previously uninterestedunreachable employersin the beginning the majority of codeup graduates went to work with startups and small businesses were now seeing a larger amount of our graduates place at medium to large sized businessesdemand is growing and employers are learning that the results are in the graduatescodeups model is sustainable inclusive and workscall or contact us today to see how codeups commitment to quality and approach to being a career accelerator can make a profound difference in your life'"
      ]
     },
     "execution_count": 12,
     "metadata": {},
     "output_type": "execute_result"
    }
   ],
   "source": [
    "tokenize(basic_string)"
   ]
  },
  {
   "cell_type": "markdown",
   "metadata": {},
   "source": [
    "### 3. Define a function named stem. It should accept some text and return the text after applying stemming to all the words."
   ]
  },
  {
   "cell_type": "code",
   "execution_count": 13,
   "metadata": {},
   "outputs": [],
   "source": [
    "def stem(text):\n",
    "    \n",
    "    ps = nltk.porter.PorterStemmer()\n",
    "    stems = [ps.stem(word) for word in text.split()]\n",
    "    text_stemmed = ' '.join(stems)\n",
    "    \n",
    "    return text_stemmed"
   ]
  },
  {
   "cell_type": "code",
   "execution_count": 14,
   "metadata": {},
   "outputs": [
    {
     "data": {
      "text/plain": [
       "'competitor bootcamp are close is the model in danger is the program bootcamp model in dangerin recent news devbootcamp and the iron yard announc that they are close their door thi is big news devbootcamp wa the first program bootcamp model and the iron yard is a nation player with 15 campus across the us in both case the compani cite an unsustain busi model doe that mean the bootcamp model is deadtldr nopebootcamp exist becaus tradit educ model have fail to provid student jobreadi skill for the 21st centuri student demand better employ option from their educ employ demand skill and job readi candid big educ failur to meet those need through tradit method creat the fertil ground for the new busi model of the program bootcampeduc giant kaplan and apollo educ group owner of univers of phoenix bought their way into thi new educ model when they purchas the iron yard and devbootcamp they purchas their competit with the intent to scale up the model unfortun big educ is too habitu to come up short for student they bought the upstart that challeng them tri make chang to run those bootcamp in the big educ way and sadli theyv close the door when they realiz that scale educ is more challeng when student outcom truli matterth bootcamp model is still new and there will be plenti consolid competit and chang in the futur thi model is base on actual be adapt innov and sustain and there alway room for innovationwhat weve learn at codeupeduc is challeng to scalepriorit qualiti over growth pay offwhat were do at codeuphigh standard in our applic process are lead to better student outcomesour reput and commit to qualiti is open new door to previous uninterestedunreach employersin the begin the major of codeup graduat went to work with startup and small busi were now see a larger amount of our graduat place at medium to larg size businessesdemand is grow and employ are learn that the result are in the graduatescodeup model is sustain inclus and workscal or contact us today to see how codeup commit to qualiti and approach to be a career acceler can make a profound differ in your life'"
      ]
     },
     "execution_count": 14,
     "metadata": {},
     "output_type": "execute_result"
    }
   ],
   "source": [
    "stem(basic_string)"
   ]
  },
  {
   "cell_type": "markdown",
   "metadata": {},
   "source": [
    "### 4. Define a function named lemmatize. It should accept some text and return the text after applying lemmatization to each word."
   ]
  },
  {
   "cell_type": "code",
   "execution_count": 15,
   "metadata": {},
   "outputs": [],
   "source": [
    "def lemmatize(string):\n",
    "    # Defining the lemmatizer:\n",
    "    wnl = nltk.stem.WordNetLemmatizer()\n",
    "    \n",
    "    lemmas_text = [wnl.lemmatize(word) for word in string.split()]\n",
    "    \n",
    "    string_final = ' '.join(lemmas_text)\n",
    "    return string_final"
   ]
  },
  {
   "cell_type": "code",
   "execution_count": 16,
   "metadata": {},
   "outputs": [
    {
     "name": "stderr",
     "output_type": "stream",
     "text": [
      "[nltk_data] Downloading package wordnet to /Users/luke/nltk_data...\n",
      "[nltk_data]   Package wordnet is already up-to-date!\n"
     ]
    },
    {
     "data": {
      "text/plain": [
       "True"
      ]
     },
     "execution_count": 16,
     "metadata": {},
     "output_type": "execute_result"
    }
   ],
   "source": [
    "nltk.download('wordnet')"
   ]
  },
  {
   "cell_type": "code",
   "execution_count": 17,
   "metadata": {},
   "outputs": [],
   "source": [
    "lem_words = lemmatize(basic_string)"
   ]
  },
  {
   "cell_type": "markdown",
   "metadata": {},
   "source": [
    "### 5. Define a function named remove_stopwords. It should accept some text and return the text after removing all the stopwords."
   ]
  },
  {
   "cell_type": "code",
   "execution_count": 18,
   "metadata": {},
   "outputs": [
    {
     "data": {
      "text/plain": [
       "['i', 'me', 'my', 'myself', 'we', 'our', 'ours', 'ourselves', 'you', \"you're\"]"
      ]
     },
     "execution_count": 18,
     "metadata": {},
     "output_type": "execute_result"
    }
   ],
   "source": [
    "stopword_list = stopwords.words('english')\n",
    "stopword_list[:10]\n"
   ]
  },
  {
   "cell_type": "code",
   "execution_count": 19,
   "metadata": {},
   "outputs": [
    {
     "data": {
      "text/plain": [
       "['competitor',\n",
       " 'bootcamps',\n",
       " 'are',\n",
       " 'closing',\n",
       " 'is',\n",
       " 'the',\n",
       " 'model',\n",
       " 'in',\n",
       " 'danger',\n",
       " 'is']"
      ]
     },
     "execution_count": 19,
     "metadata": {},
     "output_type": "execute_result"
    }
   ],
   "source": [
    "words = basic_string.split()\n",
    "words[:10]"
   ]
  },
  {
   "cell_type": "code",
   "execution_count": 20,
   "metadata": {},
   "outputs": [
    {
     "data": {
      "text/plain": [
       "['competitor',\n",
       " 'bootcamps',\n",
       " 'closing',\n",
       " 'model',\n",
       " 'danger',\n",
       " 'programming',\n",
       " 'bootcamp',\n",
       " 'model',\n",
       " 'dangerin',\n",
       " 'recent']"
      ]
     },
     "execution_count": 20,
     "metadata": {},
     "output_type": "execute_result"
    }
   ],
   "source": [
    "filtered_words = [word for word in words if word not in stopword_list]\n",
    "filtered_words[:10]"
   ]
  },
  {
   "cell_type": "code",
   "execution_count": 21,
   "metadata": {},
   "outputs": [],
   "source": [
    "# adding extra words:\n"
   ]
  },
  {
   "cell_type": "code",
   "execution_count": null,
   "metadata": {},
   "outputs": [],
   "source": []
  },
  {
   "cell_type": "code",
   "execution_count": null,
   "metadata": {},
   "outputs": [],
   "source": []
  },
  {
   "cell_type": "code",
   "execution_count": 22,
   "metadata": {},
   "outputs": [],
   "source": [
    "def remove_stopwords(string, extra_words = [], exclude_words = []):\n",
    "    \n",
    "    # Stopwords list:\n",
    "    stopword_list = stopwords.words('english')\n",
    "    \n",
    "    # Remove any excluded words:\n",
    "    stopword_list = set(stopword_list) - set(exclude_words)\n",
    "    \n",
    "    stopword_list = stopword_list.union(set(extra_words))\n",
    "    \n",
    "    words = string.split()\n",
    "    \n",
    "    filtered_words = [word for word in words if word not in stopword_list]\n",
    "    \n",
    "    no_stopwords = ' '.join(filtered_words)\n",
    "    \n",
    "    return no_stopwords"
   ]
  },
  {
   "cell_type": "code",
   "execution_count": null,
   "metadata": {},
   "outputs": [],
   "source": []
  },
  {
   "cell_type": "code",
   "execution_count": 23,
   "metadata": {},
   "outputs": [],
   "source": [
    "# Full prep function (thanks to Faith for help):\n",
    "\n",
    "def prep_article_data(df, column, extra_words=[], exclude_words=[]):\n",
    "\n",
    "    df['clean'] = df[column].apply(basic_clean)\\\n",
    "                            .apply(tokenize)\\\n",
    "                            .apply(remove_stopwords, \n",
    "                                   extra_words=extra_words, \n",
    "                                   exclude_words=exclude_words)\\\n",
    "                            .apply(lemmatize)\n",
    "    \n",
    "    df['stemmed'] = df[column].apply(basic_clean).apply(stem)\n",
    "    \n",
    "    df['lemmatized'] = df[column].apply(basic_clean).apply(lemmatize)\n",
    "    \n",
    "    return df[['title', column, 'stemmed', 'lemmatized', 'clean']]"
   ]
  },
  {
   "cell_type": "code",
   "execution_count": 24,
   "metadata": {},
   "outputs": [
    {
     "data": {
      "text/plain": [
       "'competitor bootcamps closing model danger programming bootcamp model dangerin recent news iron yard announced closing doors big news first programming bootcamp model iron yard national player 15 campuses across us cases companies cited unsustainable business model mean bootcamp model deadtldr nopebootcamps exist traditional education models failed provide students jobready skills 21st century students demand better employment options education employers demand skilled job ready candidates big educations failure meet needs traditional methods created fertile ground new business model programming bootcampeducation giant kaplan apollo education group owner university phoenix bought way new educational model purchased iron yard purchased competition intent scale model unfortunately big education habituated coming short students bought upstarts challenged tried making changes run bootcamps big education way sadly theyve closed doors realized scaling education challenging student outcomes truly matterthe bootcamp model still new plenty consolidation competition changes future model based actually adaptive innovative sustainable theres always room innovationwhat weve learned codeupeducation challenging scaleprioritizing quality growth pays offwhat codeuphigher standards application process leading better student outcomesour reputation commitment quality opening new doors previously uninterestedunreachable employersin beginning majority codeup graduates went work startups small businesses seeing larger amount graduates place medium large sized businessesdemand growing employers learning results graduatescodeups model sustainable inclusive workscall contact us today see codeups commitment quality approach career accelerator make profound difference life'"
      ]
     },
     "execution_count": 24,
     "metadata": {},
     "output_type": "execute_result"
    }
   ],
   "source": [
    "remove_stopwords(basic_string, extra_words = ['Codeup', 'devbootcamp'])"
   ]
  },
  {
   "cell_type": "markdown",
   "metadata": {},
   "source": [
    "### 6. Use your data from the axquire to produce a dataframe of the news articles. Name the dataframe `news_df`:"
   ]
  },
  {
   "cell_type": "code",
   "execution_count": null,
   "metadata": {},
   "outputs": [],
   "source": [
    "news_df = "
   ]
  },
  {
   "cell_type": "code",
   "execution_count": null,
   "metadata": {},
   "outputs": [],
   "source": []
  },
  {
   "cell_type": "markdown",
   "metadata": {},
   "source": [
    "# Need to finish this homework"
   ]
  },
  {
   "cell_type": "code",
   "execution_count": 28,
   "metadata": {},
   "outputs": [
    {
     "data": {
      "text/html": [
       "<div>\n",
       "<style scoped>\n",
       "    .dataframe tbody tr th:only-of-type {\n",
       "        vertical-align: middle;\n",
       "    }\n",
       "\n",
       "    .dataframe tbody tr th {\n",
       "        vertical-align: top;\n",
       "    }\n",
       "\n",
       "    .dataframe thead th {\n",
       "        text-align: right;\n",
       "    }\n",
       "</style>\n",
       "<table border=\"1\" class=\"dataframe\">\n",
       "  <thead>\n",
       "    <tr style=\"text-align: right;\">\n",
       "      <th></th>\n",
       "      <th>title</th>\n",
       "      <th>content</th>\n",
       "      <th>category</th>\n",
       "    </tr>\n",
       "  </thead>\n",
       "  <tbody>\n",
       "    <tr>\n",
       "      <th>0</th>\n",
       "      <td>Musk gets $15bn richer in 2 hours, becomes wor...</td>\n",
       "      <td>Billionaire Elon Musk added $15 billion to his...</td>\n",
       "      <td>technology</td>\n",
       "    </tr>\n",
       "    <tr>\n",
       "      <th>1</th>\n",
       "      <td>Twitter's 'Fleets', posts that disappear in 24...</td>\n",
       "      <td>Twitter has announced that its disappearing po...</td>\n",
       "      <td>technology</td>\n",
       "    </tr>\n",
       "    <tr>\n",
       "      <th>2</th>\n",
       "      <td>Huawei to sell smartphone brand Honor to 'ensu...</td>\n",
       "      <td>Huawei on Tuesday said it is selling its budge...</td>\n",
       "      <td>technology</td>\n",
       "    </tr>\n",
       "    <tr>\n",
       "      <th>3</th>\n",
       "      <td>Apple products worth $6.6 mn stolen in UK truc...</td>\n",
       "      <td>Apple products worth $6.6 million were stolen ...</td>\n",
       "      <td>technology</td>\n",
       "    </tr>\n",
       "    <tr>\n",
       "      <th>4</th>\n",
       "      <td>Finance ministry gives DGCA approval to set up...</td>\n",
       "      <td>The finance ministry has given its approval to...</td>\n",
       "      <td>technology</td>\n",
       "    </tr>\n",
       "    <tr>\n",
       "      <th>...</th>\n",
       "      <td>...</td>\n",
       "      <td>...</td>\n",
       "      <td>...</td>\n",
       "    </tr>\n",
       "    <tr>\n",
       "      <th>94</th>\n",
       "      <td>Heroes can be larger than life, but emotions h...</td>\n",
       "      <td>Actor Suriya Sivakumar said he believes that I...</td>\n",
       "      <td>entertainment</td>\n",
       "    </tr>\n",
       "    <tr>\n",
       "      <th>95</th>\n",
       "      <td>'Pyaar Ka Punchnama' changed everything for me...</td>\n",
       "      <td>Speaking about his 2011 debut film 'Pyaar Ka P...</td>\n",
       "      <td>entertainment</td>\n",
       "    </tr>\n",
       "    <tr>\n",
       "      <th>96</th>\n",
       "      <td>Suriya is a humble megastar: Paresh on his 'So...</td>\n",
       "      <td>Paresh Rawal spoke about his experience of wor...</td>\n",
       "      <td>entertainment</td>\n",
       "    </tr>\n",
       "    <tr>\n",
       "      <th>97</th>\n",
       "      <td>Feel like you've gone for a long shoot: Irrfan...</td>\n",
       "      <td>Irrfan Khan's son Babil Khan, on Sunday, poste...</td>\n",
       "      <td>entertainment</td>\n",
       "    </tr>\n",
       "    <tr>\n",
       "      <th>98</th>\n",
       "      <td>I'm grateful for the honour: Sood on being nam...</td>\n",
       "      <td>Actor Sonu Sood, who has been appointed as the...</td>\n",
       "      <td>entertainment</td>\n",
       "    </tr>\n",
       "  </tbody>\n",
       "</table>\n",
       "<p>99 rows × 3 columns</p>\n",
       "</div>"
      ],
      "text/plain": [
       "                                                title  \\\n",
       "0   Musk gets $15bn richer in 2 hours, becomes wor...   \n",
       "1   Twitter's 'Fleets', posts that disappear in 24...   \n",
       "2   Huawei to sell smartphone brand Honor to 'ensu...   \n",
       "3   Apple products worth $6.6 mn stolen in UK truc...   \n",
       "4   Finance ministry gives DGCA approval to set up...   \n",
       "..                                                ...   \n",
       "94  Heroes can be larger than life, but emotions h...   \n",
       "95  'Pyaar Ka Punchnama' changed everything for me...   \n",
       "96  Suriya is a humble megastar: Paresh on his 'So...   \n",
       "97  Feel like you've gone for a long shoot: Irrfan...   \n",
       "98  I'm grateful for the honour: Sood on being nam...   \n",
       "\n",
       "                                              content       category  \n",
       "0   Billionaire Elon Musk added $15 billion to his...     technology  \n",
       "1   Twitter has announced that its disappearing po...     technology  \n",
       "2   Huawei on Tuesday said it is selling its budge...     technology  \n",
       "3   Apple products worth $6.6 million were stolen ...     technology  \n",
       "4   The finance ministry has given its approval to...     technology  \n",
       "..                                                ...            ...  \n",
       "94  Actor Suriya Sivakumar said he believes that I...  entertainment  \n",
       "95  Speaking about his 2011 debut film 'Pyaar Ka P...  entertainment  \n",
       "96  Paresh Rawal spoke about his experience of wor...  entertainment  \n",
       "97  Irrfan Khan's son Babil Khan, on Sunday, poste...  entertainment  \n",
       "98  Actor Sonu Sood, who has been appointed as the...  entertainment  \n",
       "\n",
       "[99 rows x 3 columns]"
      ]
     },
     "execution_count": 28,
     "metadata": {},
     "output_type": "execute_result"
    }
   ],
   "source": [
    "acquire.build_dataset(source_urls)"
   ]
  },
  {
   "cell_type": "code",
   "execution_count": 30,
   "metadata": {},
   "outputs": [
    {
     "data": {
      "text/html": [
       "<div>\n",
       "<style scoped>\n",
       "    .dataframe tbody tr th:only-of-type {\n",
       "        vertical-align: middle;\n",
       "    }\n",
       "\n",
       "    .dataframe tbody tr th {\n",
       "        vertical-align: top;\n",
       "    }\n",
       "\n",
       "    .dataframe thead th {\n",
       "        text-align: right;\n",
       "    }\n",
       "</style>\n",
       "<table border=\"1\" class=\"dataframe\">\n",
       "  <thead>\n",
       "    <tr style=\"text-align: right;\">\n",
       "      <th></th>\n",
       "      <th>title</th>\n",
       "      <th>content</th>\n",
       "      <th>stemmed</th>\n",
       "      <th>lemmatized</th>\n",
       "      <th>clean</th>\n",
       "    </tr>\n",
       "  </thead>\n",
       "  <tbody>\n",
       "    <tr>\n",
       "      <th>0</th>\n",
       "      <td>Musk gets $15bn richer in 2 hours, becomes wor...</td>\n",
       "      <td>Billionaire Elon Musk added $15 billion to his...</td>\n",
       "      <td>billionair elon musk ad 15 billion to hi wealt...</td>\n",
       "      <td>billionaire elon musk added 15 billion to his ...</td>\n",
       "      <td>billionaire elon musk added 15 billion wealth ...</td>\n",
       "    </tr>\n",
       "    <tr>\n",
       "      <th>1</th>\n",
       "      <td>Solomon Islands plans to ban Facebook after go...</td>\n",
       "      <td>The Solomon Islands government is planning to ...</td>\n",
       "      <td>the solomon island govern is plan to ban faceb...</td>\n",
       "      <td>the solomon island government is planning to b...</td>\n",
       "      <td>solomon island government planning ban faceboo...</td>\n",
       "    </tr>\n",
       "    <tr>\n",
       "      <th>2</th>\n",
       "      <td>Google tool lets users know how long their Pho...</td>\n",
       "      <td>Google has released a new tool that gives user...</td>\n",
       "      <td>googl ha releas a new tool that give user an e...</td>\n",
       "      <td>google ha released a new tool that give user a...</td>\n",
       "      <td>google released new tool give user estimate cu...</td>\n",
       "    </tr>\n",
       "    <tr>\n",
       "      <th>3</th>\n",
       "      <td>Finance ministry gives DGCA approval to set up...</td>\n",
       "      <td>The finance ministry has given its approval to...</td>\n",
       "      <td>the financ ministri ha given it approv to civi...</td>\n",
       "      <td>the finance ministry ha given it approval to c...</td>\n",
       "      <td>finance ministry given approval civil aviation...</td>\n",
       "    </tr>\n",
       "    <tr>\n",
       "      <th>4</th>\n",
       "      <td>Zoom launches security features to combat 'Zoo...</td>\n",
       "      <td>Zoom has launched a 'Suspend Participant Activ...</td>\n",
       "      <td>zoom ha launch a 'suspend particip activities'...</td>\n",
       "      <td>zoom ha launched a 'suspend participant activi...</td>\n",
       "      <td>zoom launched ' suspend participant activity '...</td>\n",
       "    </tr>\n",
       "    <tr>\n",
       "      <th>...</th>\n",
       "      <td>...</td>\n",
       "      <td>...</td>\n",
       "      <td>...</td>\n",
       "      <td>...</td>\n",
       "      <td>...</td>\n",
       "    </tr>\n",
       "    <tr>\n",
       "      <th>94</th>\n",
       "      <td>I'm grateful for the honour: Sood on being nam...</td>\n",
       "      <td>Actor Sonu Sood, who has been appointed as the...</td>\n",
       "      <td>actor sonu sood who ha been appoint as the sta...</td>\n",
       "      <td>actor sonu sood who ha been appointed a the st...</td>\n",
       "      <td>actor sonu sood appointed state icon punjab el...</td>\n",
       "    </tr>\n",
       "    <tr>\n",
       "      <th>95</th>\n",
       "      <td>Zazie Beetz joins Brad Pitt in action film 'Bu...</td>\n",
       "      <td>Actress Zazie Beetz, who played Domino in 'Dea...</td>\n",
       "      <td>actress zazi beetz who play domino in 'deadpoo...</td>\n",
       "      <td>actress zazie beetz who played domino in 'dead...</td>\n",
       "      <td>actress zazie beetz played domino ' deadpool 2...</td>\n",
       "    </tr>\n",
       "    <tr>\n",
       "      <th>96</th>\n",
       "      <td>Chadwick won't be digitally recreated for Blac...</td>\n",
       "      <td>When asked if Marvel will digitally recreate l...</td>\n",
       "      <td>when ask if marvel will digit recreat late act...</td>\n",
       "      <td>when asked if marvel will digitally recreate l...</td>\n",
       "      <td>asked marvel digitally recreate late actor cha...</td>\n",
       "    </tr>\n",
       "    <tr>\n",
       "      <th>97</th>\n",
       "      <td>Aditya made me feel comfortable on the sets of...</td>\n",
       "      <td>Speaking about her experience of working with ...</td>\n",
       "      <td>speak about her experi of work with aditya roy...</td>\n",
       "      <td>speaking about her experience of working with ...</td>\n",
       "      <td>speaking experience working aditya roy kapur l...</td>\n",
       "    </tr>\n",
       "    <tr>\n",
       "      <th>98</th>\n",
       "      <td>Suriya is a humble megastar: Paresh on his 'So...</td>\n",
       "      <td>Paresh Rawal spoke about his experience of wor...</td>\n",
       "      <td>paresh rawal spoke about hi experi of work wit...</td>\n",
       "      <td>paresh rawal spoke about his experience of wor...</td>\n",
       "      <td>paresh rawal spoke experience working actor su...</td>\n",
       "    </tr>\n",
       "  </tbody>\n",
       "</table>\n",
       "<p>99 rows × 5 columns</p>\n",
       "</div>"
      ],
      "text/plain": [
       "                                                title  \\\n",
       "0   Musk gets $15bn richer in 2 hours, becomes wor...   \n",
       "1   Solomon Islands plans to ban Facebook after go...   \n",
       "2   Google tool lets users know how long their Pho...   \n",
       "3   Finance ministry gives DGCA approval to set up...   \n",
       "4   Zoom launches security features to combat 'Zoo...   \n",
       "..                                                ...   \n",
       "94  I'm grateful for the honour: Sood on being nam...   \n",
       "95  Zazie Beetz joins Brad Pitt in action film 'Bu...   \n",
       "96  Chadwick won't be digitally recreated for Blac...   \n",
       "97  Aditya made me feel comfortable on the sets of...   \n",
       "98  Suriya is a humble megastar: Paresh on his 'So...   \n",
       "\n",
       "                                              content  \\\n",
       "0   Billionaire Elon Musk added $15 billion to his...   \n",
       "1   The Solomon Islands government is planning to ...   \n",
       "2   Google has released a new tool that gives user...   \n",
       "3   The finance ministry has given its approval to...   \n",
       "4   Zoom has launched a 'Suspend Participant Activ...   \n",
       "..                                                ...   \n",
       "94  Actor Sonu Sood, who has been appointed as the...   \n",
       "95  Actress Zazie Beetz, who played Domino in 'Dea...   \n",
       "96  When asked if Marvel will digitally recreate l...   \n",
       "97  Speaking about her experience of working with ...   \n",
       "98  Paresh Rawal spoke about his experience of wor...   \n",
       "\n",
       "                                              stemmed  \\\n",
       "0   billionair elon musk ad 15 billion to hi wealt...   \n",
       "1   the solomon island govern is plan to ban faceb...   \n",
       "2   googl ha releas a new tool that give user an e...   \n",
       "3   the financ ministri ha given it approv to civi...   \n",
       "4   zoom ha launch a 'suspend particip activities'...   \n",
       "..                                                ...   \n",
       "94  actor sonu sood who ha been appoint as the sta...   \n",
       "95  actress zazi beetz who play domino in 'deadpoo...   \n",
       "96  when ask if marvel will digit recreat late act...   \n",
       "97  speak about her experi of work with aditya roy...   \n",
       "98  paresh rawal spoke about hi experi of work wit...   \n",
       "\n",
       "                                           lemmatized  \\\n",
       "0   billionaire elon musk added 15 billion to his ...   \n",
       "1   the solomon island government is planning to b...   \n",
       "2   google ha released a new tool that give user a...   \n",
       "3   the finance ministry ha given it approval to c...   \n",
       "4   zoom ha launched a 'suspend participant activi...   \n",
       "..                                                ...   \n",
       "94  actor sonu sood who ha been appointed a the st...   \n",
       "95  actress zazie beetz who played domino in 'dead...   \n",
       "96  when asked if marvel will digitally recreate l...   \n",
       "97  speaking about her experience of working with ...   \n",
       "98  paresh rawal spoke about his experience of wor...   \n",
       "\n",
       "                                                clean  \n",
       "0   billionaire elon musk added 15 billion wealth ...  \n",
       "1   solomon island government planning ban faceboo...  \n",
       "2   google released new tool give user estimate cu...  \n",
       "3   finance ministry given approval civil aviation...  \n",
       "4   zoom launched ' suspend participant activity '...  \n",
       "..                                                ...  \n",
       "94  actor sonu sood appointed state icon punjab el...  \n",
       "95  actress zazie beetz played domino ' deadpool 2...  \n",
       "96  asked marvel digitally recreate late actor cha...  \n",
       "97  speaking experience working aditya roy kapur l...  \n",
       "98  paresh rawal spoke experience working actor su...  \n",
       "\n",
       "[99 rows x 5 columns]"
      ]
     },
     "execution_count": 30,
     "metadata": {},
     "output_type": "execute_result"
    }
   ],
   "source": [
    "source_urls = ['https://inshorts.com/en/read/technology',\n",
    "             'https://inshorts.com/en/read/sports',\n",
    "             'https://inshorts.com/en/read/business',\n",
    "             'https://inshorts.com/en/read/entertainment']\n",
    "\n",
    "prep_article_data(acquire.build_dataset(source_urls), 'content')"
   ]
  },
  {
   "cell_type": "code",
   "execution_count": null,
   "metadata": {},
   "outputs": [],
   "source": []
  },
  {
   "cell_type": "markdown",
   "metadata": {},
   "source": [
    "### 9. Ask yourself:\n",
    "\n",
    "- If your corpus is 493KB, would you prefer to use stemmed or lemmatized text?\n",
    "- If your corpus is 25MB, would you prefer to use stemmed or lemmatized text?\n",
    "- If your corpus is 200TB of text and you're charged by the megabyte for your hosted computational resources, would you prefer to use stemmed or lemmatized text?"
   ]
  },
  {
   "cell_type": "markdown",
   "metadata": {},
   "source": [
    "- With a corpus of 493k, lemmatize wouldn't take much processing power, thus I would use lemmatize.\n",
    "- With a corpus of 25MB, lemmatize still wouldn't take much processing power, thus I would still use lemmatize.\n",
    "- With a corpus of 200TB, with fees associated with computational resources, I would want to be as computationally efficient as possible, thus I'd use stemmed text."
   ]
  },
  {
   "cell_type": "code",
   "execution_count": null,
   "metadata": {},
   "outputs": [],
   "source": []
  }
 ],
 "metadata": {
  "kernelspec": {
   "display_name": "Python 3",
   "language": "python",
   "name": "python3"
  },
  "language_info": {
   "codemirror_mode": {
    "name": "ipython",
    "version": 3
   },
   "file_extension": ".py",
   "mimetype": "text/x-python",
   "name": "python",
   "nbconvert_exporter": "python",
   "pygments_lexer": "ipython3",
   "version": "3.7.9"
  }
 },
 "nbformat": 4,
 "nbformat_minor": 4
}
